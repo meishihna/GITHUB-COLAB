{
  "nbformat": 4,
  "nbformat_minor": 0,
  "metadata": {
    "colab": {
      "provenance": [],
      "authorship_tag": "ABX9TyOwVUArEEgCfcBBR7rFWBWI",
      "include_colab_link": true
    },
    "kernelspec": {
      "name": "python3",
      "display_name": "Python 3"
    },
    "language_info": {
      "name": "python"
    }
  },
  "cells": [
    {
      "cell_type": "markdown",
      "metadata": {
        "id": "view-in-github",
        "colab_type": "text"
      },
      "source": [
        "<a href=\"https://colab.research.google.com/github/meishihna/GITHUB-COLAB/blob/main/LINE_Notify.ipynb\" target=\"_parent\"><img src=\"https://colab.research.google.com/assets/colab-badge.svg\" alt=\"Open In Colab\"/></a>"
      ]
    },
    {
      "cell_type": "markdown",
      "source": [
        "###**工具**"
      ],
      "metadata": {
        "id": "mOU-4TcGpFRl"
      }
    },
    {
      "cell_type": "markdown",
      "source": [
        "####定義包"
      ],
      "metadata": {
        "id": "RaFVCSma4L3Q"
      }
    },
    {
      "cell_type": "code",
      "source": [
        "from google.colab import drive\n",
        "drive.mount('/content/drive')\n",
        "%cd '/content/drive/My Drive/Colab Notebooks/Stock/'"
      ],
      "metadata": {
        "id": "xdCrIq9S2-PO"
      },
      "execution_count": null,
      "outputs": []
    },
    {
      "cell_type": "code",
      "source": [
        "!pip install FinMind\n",
        "!pip install --upgrade mplfinance\n",
        "!pip install twstock\n",
        "!pip install lineTool"
      ],
      "metadata": {
        "id": "5Lrss7I6DCYm"
      },
      "execution_count": null,
      "outputs": []
    },
    {
      "cell_type": "code",
      "execution_count": 3,
      "metadata": {
        "id": "A7-akz7r6pQE"
      },
      "outputs": [],
      "source": [
        "import pandas as pd\n",
        "# from Data import getDataYF,getDataFM\n",
        "import mplfinance as mpf\n",
        "import matplotlib.pyplot as plt\n",
        "import os\n",
        "import numpy as np\n",
        "import twstock\n",
        "import lineTool"
      ]
    },
    {
      "cell_type": "code",
      "source": [
        "import yfinance as yf\n",
        "import FinMind\n",
        "from FinMind.data import DataLoader\n",
        "\n",
        "datapath = \"data\"\n",
        "FM = DataLoader()\n",
        "\n",
        "from Data import getDataFM,getDataFM1,getFMShareHolder,ShareHolderWeekly,getPriceAndShareHolder,getTSEInstitutionalInvestors,getFMInstitutionalInvestors\n",
        "from Data import InstInvestorsDaily,getPriceAndInstInvest_TSE,getPriceAndInstInvest_FM,getTSEMarginTrading,getFMMarginTrading\n",
        "from Data import getTSEShortSales,getFMShortSales,getFMPriceAndMarginTrade,getFMPriceAndShortSales,getTSEMonthRevenue,getTSEPriceAndRevenue\n",
        "from BackTest import ChartCandle,ChartTrade,Performance\n",
        "\n",
        "def get_company_name(company_code):\n",
        "    # 將用戶輸入的公司代碼轉換為字串\n",
        "    company_code = str(company_code)\n",
        "\n",
        "    stock_info = twstock.codes[company_code]\n",
        "    if stock_info is not None:\n",
        "        return f\"{stock_info.name}\"\n",
        "    else:\n",
        "        return f\"找不到公司代碼 {company_code} 對應的公司名稱\""
      ],
      "metadata": {
        "id": "GTU8NE6R9AYw"
      },
      "execution_count": null,
      "outputs": []
    },
    {
      "cell_type": "markdown",
      "source": [
        "####TALIB"
      ],
      "metadata": {
        "id": "BCjAKZPeCsX6"
      }
    },
    {
      "cell_type": "code",
      "source": [
        "!pip install ta-lib-bin > log.txt"
      ],
      "metadata": {
        "id": "rlMAzgfOCu_7"
      },
      "execution_count": 14,
      "outputs": []
    },
    {
      "cell_type": "code",
      "source": [
        "import talib\n",
        "from talib import SMA as func_sma\n",
        "from talib.abstract import SMA as abs_sma\n",
        "from talib.abstract import EMA"
      ],
      "metadata": {
        "id": "yGFFAGiwC56-"
      },
      "execution_count": 15,
      "outputs": []
    },
    {
      "cell_type": "markdown",
      "source": [
        "####LINE Notify"
      ],
      "metadata": {
        "id": "kkT56BRKuLMK"
      }
    },
    {
      "cell_type": "code",
      "source": [
        "# Line 推播\n",
        "token = \"lppCbwUyaxN2tIBRz1R1gHd5vKpYCve4tyd5TTI501I\" #我\n",
        "# token=\"PsJ1IPfpwwAsZmQb0oi5U9Xgz3ZsLxIBtEqMyQ5dhS8\" #00919股友社\n",
        "# token =\"TcKCmadWHAS7bE9AXdiRPVmyWY7d1wO4lmfc5TRJ2EZ\" #梅家\n",
        "# token = \"B2PULu4O1B6YgkWEobko8IqFDkz5CFwnk4bXHUmaUYS\"\n",
        "def line_print(msg):\n",
        "    print(msg)\n",
        "    try :\n",
        "        lineTool.lineNotify(token, msg)\n",
        "    except:\n",
        "        print('line notify 失效')\n",
        "        pass"
      ],
      "metadata": {
        "id": "DP_kDTlavQk8"
      },
      "execution_count": 18,
      "outputs": []
    },
    {
      "cell_type": "markdown",
      "source": [
        "###**策略**\n",
        "\n",
        "---\n",
        "\n"
      ],
      "metadata": {
        "id": "v8iR4SDOzkrt"
      }
    },
    {
      "cell_type": "markdown",
      "source": [
        "###**MACD策略**"
      ],
      "metadata": {
        "id": "4Ly1vmpj4uMb"
      }
    },
    {
      "cell_type": "code",
      "source": [
        "from talib.abstract import MACD\n",
        "\n",
        "import datetime\n",
        "# 取得回測資料\n",
        "prod=int(input(\"請輸入要查詢的股票代碼:\"))\n",
        "st='2010-01-01'\n",
        "en=datetime.datetime.now().strftime('%Y-%m-%d')\n",
        "data=getDataFM1(prod,st,en)\n",
        "\n",
        "# 計算MACD\n",
        "data=data.join(MACD(data,40,120,60))\n",
        "\n",
        "# 初始部位\n",
        "position=0\n",
        "signal = 1\n",
        "# 開始回測\n",
        "for i in range(data.shape[0]-1):\n",
        "    # 取得策略會應用到的變數\n",
        "    c_time=data.index[i]\n",
        "    c_high=data.loc[c_time,'high']\n",
        "    c_close=data.loc[c_time,'close']\n",
        "    c_macd=data.loc[c_time,'macdhist']\n",
        "    # 取下一期資料做為進場資料\n",
        "    n_time=data.index[i+1]\n",
        "    n_open=data.loc[n_time,'open']\n",
        "\n",
        "    # 進場程序\n",
        "    if position == 0 :\n",
        "        if c_macd >0  :\n",
        "            position = 1\n",
        "            order_i=i\n",
        "            order_time=n_time\n",
        "            order_price=n_open\n",
        "            signal = 3\n",
        "\n",
        "        else:\n",
        "            signal = 1\n",
        "    # 出場程序\n",
        "    elif position ==1 :\n",
        "        # 出場邏輯\n",
        "        if c_macd < -0.005 :\n",
        "            position = 0\n",
        "            cover_time=n_time\n",
        "            cover_price=n_open\n",
        "            signal = 4\n",
        "        else:\n",
        "            signal = 2\n",
        "\n",
        "strategy_name='MACD策略'\n",
        "result = get_company_name(prod)\n",
        "\n",
        "if signal==1:\n",
        "    line_print('\\n %s \\n %s 【$s】 \\n %s \\n維持空手'%(strategy_name,prod,result,en))\n",
        "elif signal==2:\n",
        "    line_print('\\n %s \\n %s 【%s】 \\n %s \\n維持進場'%(strategy_name,prod,result,en))\n",
        "elif signal==3:\n",
        "    line_print('\\n %s \\n %s 【%s】 \\n %s \\n進場訊號'%(strategy_name,prod,result,en))\n",
        "elif signal==4:\n",
        "    line_print('\\n %s \\n %s 【%s】 \\n %s \\n出場訊號'%(strategy_name,prod,result,en))"
      ],
      "metadata": {
        "colab": {
          "base_uri": "https://localhost:8080/"
        },
        "id": "ENv10YvM4yQS",
        "outputId": "dbd7e8a3-69cb-4c85-e072-64441dba9991"
      },
      "execution_count": 26,
      "outputs": [
        {
          "name": "stdout",
          "output_type": "stream",
          "text": [
            "請輸入要查詢的股票代碼:2330\n"
          ]
        },
        {
          "output_type": "stream",
          "name": "stderr",
          "text": [
            "\u001b[32m2024-01-26 04:42:07.703\u001b[0m | \u001b[1mINFO    \u001b[0m | \u001b[36mFinMind.data.finmind_api\u001b[0m:\u001b[36mget_data\u001b[0m:\u001b[36m125\u001b[0m - \u001b[1mdownload TaiwanStockPrice, data_id: 2330\u001b[0m\n"
          ]
        },
        {
          "output_type": "stream",
          "name": "stdout",
          "text": [
            "\n",
            " MACD策略 \n",
            " 2330 台積電 \n",
            " 2024-01-26 \n",
            "維持進場\n"
          ]
        }
      ]
    },
    {
      "cell_type": "markdown",
      "source": [
        "###**均線突破策略**\n",
        "\n",
        "\n"
      ],
      "metadata": {
        "id": "eaRBmhdUVhY1"
      }
    },
    {
      "cell_type": "code",
      "source": [
        "import datetime\n",
        "# 取得回測資料\n",
        "prod=int(input(\"請輸入要查詢的股票代碼:\"))\n",
        "st='2010-01-01'\n",
        "en=datetime.datetime.now().strftime('%Y-%m-%d')\n",
        "data = getDataFM1(prod,st,en)\n",
        "# EMA(data,timeperiod=120)\n",
        "data['ema'] = EMA(data,timeperiod=120)\n",
        "\n",
        "movestoploss = 0.05\n",
        "\n",
        "position = 0\n",
        "trade = pd.DataFrame()\n",
        "\n",
        "for i in range(data.shape[0]-1):\n",
        "  c_time = data.index[i]\n",
        "  c_high = data.loc[c_time,'high']\n",
        "  c_close = data.loc[c_time,'close']\n",
        "  c_ema = data.loc[c_time,'ema']\n",
        "\n",
        "  n_time = data.index[i+1]\n",
        "  n_open = data.loc[n_time,'open']\n",
        "\n",
        "  if position == 0 :\n",
        "    if c_close > c_ema*1.01 :\n",
        "      position = 1\n",
        "      signal = 3\n",
        "    else:\n",
        "      signal = 1\n",
        "      # print(c_time,'觸發進場訊號 隔日進場', order_time,'進場價', order_price, '進場', order_unit,'單位')\n",
        "\n",
        "  elif position == 1 :\n",
        "    if c_close < c_ema * 0.995:\n",
        "      position = 0\n",
        "      signal = 4\n",
        "    else:\n",
        "      signal = 2\n",
        "\n",
        "strategy_name='突破均線策略'\n",
        "result = get_company_name(prod)\n",
        "\n",
        "if signal==1:\n",
        "    line_print('\\n %s \\n %s 【$s】 \\n %s \\n維持空手'%(strategy_name,prod,result,en))\n",
        "elif signal==2:\n",
        "    line_print('\\n %s \\n %s 【%s】 \\n %s \\n維持進場'%(strategy_name,prod,result,en))\n",
        "elif signal==3:\n",
        "    line_print('\\n %s \\n %s 【%s】 \\n %s \\n進場訊號'%(strategy_name,prod,result,en))\n",
        "elif signal==4:\n",
        "    line_print('\\n %s \\n %s 【%s】 \\n %s \\n出場訊號'%(strategy_name,prod,result,en))"
      ],
      "metadata": {
        "id": "cWiq_kn4UuO4",
        "colab": {
          "base_uri": "https://localhost:8080/"
        },
        "outputId": "069246d3-8687-45bb-b2a9-ed6ecfee4e05"
      },
      "execution_count": 17,
      "outputs": [
        {
          "name": "stdout",
          "output_type": "stream",
          "text": [
            "請輸入要查詢的股票代碼:2331\n"
          ]
        },
        {
          "output_type": "stream",
          "name": "stderr",
          "text": [
            "\u001b[32m2024-01-26 04:50:10.768\u001b[0m | \u001b[1mINFO    \u001b[0m | \u001b[36mFinMind.data.finmind_api\u001b[0m:\u001b[36mget_data\u001b[0m:\u001b[36m125\u001b[0m - \u001b[1mdownload TaiwanStockPrice, data_id: 2331\u001b[0m\n"
          ]
        },
        {
          "output_type": "stream",
          "name": "stdout",
          "text": [
            "\n",
            " 突破均線策略 \n",
            " 2331 【精英】 \n",
            " 2024-01-26 \n",
            "維持進場\n"
          ]
        }
      ]
    },
    {
      "cell_type": "markdown",
      "source": [
        "###**RSI策略**"
      ],
      "metadata": {
        "id": "p0-U8tO3bfUL"
      }
    },
    {
      "cell_type": "code",
      "source": [
        "from talib.abstract import RSI\n",
        "\n",
        "prod=int(input(\"請輸入要查詢的股票代碼:\"))\n",
        "st='2010-01-01'\n",
        "en=datetime.datetime.now().strftime('%Y-%m-%d')\n",
        "data=getDataFM1(prod,st,en)\n",
        "\n",
        "# 計算相對強弱指標\n",
        "data['rsi1']=RSI(data,timeperiod=120)\n",
        "data['rsi2']=RSI(data,timeperiod=150)\n",
        "\n",
        "# 初始部位\n",
        "position=0\n",
        "signal = 0\n",
        "# 開始回測\n",
        "for i in range(data.shape[0]-1):\n",
        "    # 取得策略會應用到的變數\n",
        "    c_time=data.index[i]\n",
        "    c_high=data.loc[c_time,'high']\n",
        "    c_close=data.loc[c_time,'close']\n",
        "    c_rsi1=data.loc[c_time,'rsi1']\n",
        "    c_rsi2=data.loc[c_time,'rsi2']\n",
        "    # 取下一期資料做為進場資料\n",
        "    n_time=data.index[i+1]\n",
        "    n_open=data.loc[n_time,'open']\n",
        "\n",
        "    # 進場程序\n",
        "    if position == 0 :\n",
        "        if c_rsi1 > c_rsi2 :\n",
        "            position = 1\n",
        "            signal = 3\n",
        "        else:\n",
        "            signal = 1\n",
        "    # 出場程序\n",
        "    elif position == 1 :\n",
        "        # 出場邏輯\n",
        "        if c_rsi1 < c_rsi2  * 0.999 :\n",
        "            position = 0\n",
        "            signal = 4\n",
        "        else:\n",
        "            signal = 2\n",
        "\n",
        "result = get_company_name(prod)\n",
        "strategy_name='RSI策略'\n",
        "if signal==1:\n",
        "    line_print('\\n %s \\n %s 【$s】 \\n %s \\n維持空手'%(strategy_name,prod,result,en))\n",
        "elif signal==2:\n",
        "    line_print('\\n %s \\n %s 【%s】 \\n %s \\n維持進場'%(strategy_name,prod,result,en))\n",
        "elif signal==3:\n",
        "    line_print('\\n %s \\n %s 【%s】 \\n %s \\n進場訊號'%(strategy_name,prod,result,en))\n",
        "elif signal==4:\n",
        "    line_print('\\n %s \\n %s 【%s】 \\n %s \\n出場訊號'%(strategy_name,prod,result,en))"
      ],
      "metadata": {
        "colab": {
          "base_uri": "https://localhost:8080/"
        },
        "id": "sH0IQjtfbkpU",
        "outputId": "0044d2bf-dde3-4b81-dc36-da209627bf56"
      },
      "execution_count": 11,
      "outputs": [
        {
          "name": "stdout",
          "output_type": "stream",
          "text": [
            "請輸入要查詢的股票代碼:2331\n"
          ]
        },
        {
          "output_type": "stream",
          "name": "stderr",
          "text": [
            "\u001b[32m2024-01-25 11:45:56.980\u001b[0m | \u001b[1mINFO    \u001b[0m | \u001b[36mFinMind.data.finmind_api\u001b[0m:\u001b[36mget_data\u001b[0m:\u001b[36m125\u001b[0m - \u001b[1mdownload TaiwanStockPrice, data_id: 2331\u001b[0m\n"
          ]
        },
        {
          "output_type": "stream",
          "name": "stdout",
          "text": [
            "\n",
            " RSI策略 \n",
            " 2331 精英 \n",
            " 2024-01-25 \n",
            "維持進場\n"
          ]
        }
      ]
    },
    {
      "cell_type": "markdown",
      "source": [
        "###**強勢回檔策略**"
      ],
      "metadata": {
        "id": "EtUN_PH0hL9R"
      }
    },
    {
      "cell_type": "code",
      "source": [
        "from talib.abstract import RSI\n",
        "import datetime\n",
        "# 取得回測資料\n",
        "prod=int(input(\"請輸入要查詢的股票代碼:\"))\n",
        "st='2010-01-01'\n",
        "en=datetime.datetime.now().strftime('%Y-%m-%d')\n",
        "data=getDataFM1(prod,st,en)\n",
        "\n",
        "# 計算相對強弱指標 以及 買超 賣超\n",
        "data['rsi']=RSI(data,timeperiod=10)\n",
        "over_buy=80\n",
        "over_sell=40\n",
        "\n",
        "# 初始部位\n",
        "position=0\n",
        "signal = 0\n",
        "rsi_min,rsi_min_time=100,0\n",
        "# 開始回測\n",
        "for i in range(data.shape[0]-1):\n",
        "    # 取得策略會應用到的變數\n",
        "    c_time=data.index[i]\n",
        "    c_high=data.loc[c_time,'high']\n",
        "    c_close=data.loc[c_time,'close']\n",
        "    c_rsi=data.loc[c_time,'rsi']\n",
        "    # 取下一期資料做為進場資料\n",
        "    n_time=data.index[i+1]\n",
        "    n_open=data.loc[n_time,'open']\n",
        "\n",
        "    # 進場程序\n",
        "    if position ==0  :\n",
        "        if c_rsi < over_sell :\n",
        "            # 如果當前 rsi 等於最小值 則變動\n",
        "            if rsi_min > c_rsi:\n",
        "                rsi_min = c_rsi\n",
        "                rsi_min_time = i\n",
        "                continue # 直接換隔天\n",
        "        # 判斷今天在最低點近三日 RSI反彈10\n",
        "        if i<=rsi_min_time+3 and c_rsi>rsi_min+10:\n",
        "            rsi_min = 100\n",
        "            position = 1\n",
        "            signal = 3\n",
        "        else:\n",
        "            signal = 1\n",
        "\n",
        "    # 出場程序\n",
        "    elif position ==1 :\n",
        "        # 出場邏輯\n",
        "        if c_rsi > over_buy :\n",
        "            position = 0\n",
        "            signal = 4\n",
        "        else:\n",
        "            signal = 2\n",
        "\n",
        "strategy_name='強勢回檔策略'\n",
        "result = get_company_name(prod)\n",
        "\n",
        "if signal==1:\n",
        "    line_print('\\n %s \\n %s 【$s】 \\n %s \\n維持空手'%(strategy_name,prod,result,en))\n",
        "elif signal==2:\n",
        "    line_print('\\n %s \\n %s 【%s】 \\n %s \\n維持進場'%(strategy_name,prod,result,en))\n",
        "elif signal==3:\n",
        "    line_print('\\n %s \\n %s 【%s】 \\n %s \\n進場訊號'%(strategy_name,prod,result,en))\n",
        "elif signal==4:\n",
        "    line_print('\\n %s \\n %s 【%s】 \\n %s \\n出場訊號'%(strategy_name,prod,result,en))\n"
      ],
      "metadata": {
        "colab": {
          "base_uri": "https://localhost:8080/"
        },
        "id": "_M-uMCj2hKlW",
        "outputId": "ca103fd2-bf81-45f2-f0db-d8b6cd97f06f"
      },
      "execution_count": 37,
      "outputs": [
        {
          "name": "stdout",
          "output_type": "stream",
          "text": [
            "請輸入要查詢的股票代碼:2331\n"
          ]
        },
        {
          "output_type": "stream",
          "name": "stderr",
          "text": [
            "\u001b[32m2024-01-25 09:35:55.240\u001b[0m | \u001b[1mINFO    \u001b[0m | \u001b[36mFinMind.data.finmind_api\u001b[0m:\u001b[36mget_data\u001b[0m:\u001b[36m125\u001b[0m - \u001b[1mdownload TaiwanStockPrice, data_id: 2331\u001b[0m\n"
          ]
        },
        {
          "output_type": "stream",
          "name": "stdout",
          "text": [
            "\n",
            " 強勢回檔策略 \n",
            " 2331 精英 \n",
            " 2024-01-25 \n",
            "維持空手\n"
          ]
        }
      ]
    },
    {
      "cell_type": "markdown",
      "source": [
        "###**ATR濾網交易策略**"
      ],
      "metadata": {
        "id": "jvQGAEP5w5oy"
      }
    },
    {
      "cell_type": "code",
      "source": [
        "from talib.abstract import EMA,ATR\n",
        "import datetime\n",
        "# 取得回測資料\n",
        "prod=int(input(\"請輸入要查詢的股票代碼:\"))\n",
        "st='2010-01-01'\n",
        "en=datetime.datetime.now().strftime('%Y-%m-%d')\n",
        "data=getDataFM1(prod,st,en)\n",
        "\n",
        "# 計算指數移動平均線\n",
        "data['ema']=EMA(data,timeperiod=80)\n",
        "data['atr1']=ATR(data,timeperiod=120)\n",
        "data['atr2']=ATR(data,timeperiod=200)\n",
        "\n",
        "# 初始部位\n",
        "position = 0\n",
        "signal = 0\n",
        "# 開始回測\n",
        "for i in range(data.shape[0]-1):\n",
        "    # 取得策略會應用到的變數\n",
        "    c_time=data.index[i]\n",
        "    c_high=data.loc[c_time,'high']\n",
        "    c_close=data.loc[c_time,'close']\n",
        "    c_ema=data.loc[c_time,'ema']\n",
        "    c_atr1=data.loc[c_time,'atr1']\n",
        "    c_atr2=data.loc[c_time,'atr2']\n",
        "    # 取下一期資料做為進場資料\n",
        "    n_time=data.index[i+1]\n",
        "    n_open=data.loc[n_time,'open']\n",
        "\n",
        "    # 進場程序\n",
        "    if position ==0  :\n",
        "        # 進場邏輯\n",
        "        if c_close > c_ema*1.01 and c_atr1 > c_atr2 :\n",
        "            position = 1\n",
        "            signal = 3\n",
        "        else:\n",
        "            signal = 1\n",
        "    # 出場程序\n",
        "    elif position ==1 :\n",
        "        # 出場邏輯\n",
        "        if  c_close < c_ema*0.995 :\n",
        "            position = 0\n",
        "            signal = 4\n",
        "        else:\n",
        "            signal = 2\n",
        "result = get_company_name(prod)\n",
        "strategy_name='ATR濾網交易策略'\n",
        "\n",
        "if signal==1:\n",
        "    line_print('\\n %s \\n %s 【$s】 \\n %s \\n維持空手'%(strategy_name,prod,result,en))\n",
        "elif signal==2:\n",
        "    line_print('\\n %s \\n %s 【%s】 \\n %s \\n維持進場'%(strategy_name,prod,result,en))\n",
        "elif signal==3:\n",
        "    line_print('\\n %s \\n %s 【%s】 \\n %s \\n進場訊號'%(strategy_name,prod,result,en))\n",
        "elif signal==4:\n",
        "    line_print('\\n %s \\n %s 【%s】 \\n %s \\n出場訊號'%(strategy_name,prod,result,en))\n"
      ],
      "metadata": {
        "colab": {
          "base_uri": "https://localhost:8080/"
        },
        "id": "mBQthlF6w_Ra",
        "outputId": "6ad422f0-0e52-40ec-a060-4bcc7b46ffea"
      },
      "execution_count": 30,
      "outputs": [
        {
          "name": "stdout",
          "output_type": "stream",
          "text": [
            "請輸入要查詢的股票代碼:2330\n"
          ]
        },
        {
          "output_type": "stream",
          "name": "stderr",
          "text": [
            "\u001b[32m2024-01-25 09:15:32.112\u001b[0m | \u001b[1mINFO    \u001b[0m | \u001b[36mFinMind.data.finmind_api\u001b[0m:\u001b[36mget_data\u001b[0m:\u001b[36m125\u001b[0m - \u001b[1mdownload TaiwanStockPrice, data_id: 2330\u001b[0m\n"
          ]
        },
        {
          "output_type": "stream",
          "name": "stdout",
          "text": [
            "ATR濾網交易策略 \n",
            " 2330 台積電 \n",
            " 2024-01-25 \n",
            "維持空手\n"
          ]
        }
      ]
    },
    {
      "cell_type": "markdown",
      "source": [
        "###**趨勢突破策略**"
      ],
      "metadata": {
        "id": "1r2AUmBiYqsL"
      }
    },
    {
      "cell_type": "code",
      "source": [
        "import datetime\n",
        "# 取得回測資料\n",
        "prod=int(input(\"請輸入要查詢的股票代碼:\"))\n",
        "st='2010-01-01'\n",
        "en=datetime.datetime.now().strftime('%Y-%m-%d')\n",
        "data = getDataFM(prod,st,en)\n",
        "data['Ceil'] = data.rolling(3)['High'].max().shift()\n",
        "\n",
        "movestoploss = 0.05\n",
        "\n",
        "position = 0\n",
        "sugnal= 0\n",
        "\n",
        "for i in range(data.shape[0]-1):\n",
        "  c_time = data.index[i]\n",
        "  c_high = data.loc[c_time,'High']\n",
        "  c_close = data.loc[c_time,'Close']\n",
        "  c_ceil = data.loc[c_time,'Ceil']\n",
        "\n",
        "  n_time = data.index[i+1]\n",
        "  n_open = data.loc[n_time,'Open']\n",
        "\n",
        "  if position == 0 :\n",
        "    if c_close > c_ceil :\n",
        "      position = 1\n",
        "      order_i = i\n",
        "      order_time = n_time\n",
        "      order_price = n_open\n",
        "      stoploss = order_price * (1 - movestoploss)\n",
        "      # print(c_time,'觸發進場訊號 隔日進場', order_time,'進場價', order_price, '進場', order_unit,'單位')\n",
        "      signal = 3\n",
        "    else:\n",
        "      signal = 1\n",
        "  elif position == 1 :\n",
        "    stoploss = max(stoploss,c_close * (1 - movestoploss))\n",
        "    if c_close < stoploss:\n",
        "      position = 0\n",
        "      cover_time = n_time\n",
        "      cover_price = n_open\n",
        "      signal = 4\n",
        "    else:\n",
        "      signal = 2\n",
        "      # print(c_time,'觸發出場訊號 隔日出場', order_time, '出場價', order_price)\n",
        "strategy_name='趨勢突破策略'\n",
        "result = get_company_name(prod)\n",
        "\n",
        "if signal==1:\n",
        "    line_print('\\n %s \\n %s 【$s】 \\n %s \\n維持空手'%(strategy_name,prod,result,en))\n",
        "elif signal==2:\n",
        "    line_print('\\n %s \\n %s 【%s】 \\n %s \\n維持進場'%(strategy_name,prod,result,en))\n",
        "elif signal==3:\n",
        "    line_print('\\n %s \\n %s 【%s】 \\n %s \\n進場訊號'%(strategy_name,prod,result,en))\n",
        "elif signal==4:\n",
        "    line_print('\\n %s \\n %s 【%s】 \\n %s \\n出場訊號'%(strategy_name,prod,result,en))"
      ],
      "metadata": {
        "colab": {
          "base_uri": "https://localhost:8080/"
        },
        "id": "YnLCLuL3YveX",
        "outputId": "8f662afa-3224-4186-b617-820fddb1d6bb"
      },
      "execution_count": 19,
      "outputs": [
        {
          "name": "stdout",
          "output_type": "stream",
          "text": [
            "請輸入要查詢的股票代碼:2401\n"
          ]
        },
        {
          "output_type": "stream",
          "name": "stderr",
          "text": [
            "\u001b[32m2024-01-24 08:03:42.266\u001b[0m | \u001b[1mINFO    \u001b[0m | \u001b[36mFinMind.data.finmind_api\u001b[0m:\u001b[36mget_data\u001b[0m:\u001b[36m125\u001b[0m - \u001b[1mdownload TaiwanStockPrice, data_id: 2401\u001b[0m\n"
          ]
        },
        {
          "output_type": "stream",
          "name": "stdout",
          "text": [
            "趨勢突破策略 \n",
            " 2401 \n",
            " 2024-01-24 \n",
            "維持進場\n"
          ]
        }
      ]
    },
    {
      "cell_type": "markdown",
      "source": [
        "###**跟著外資策略**"
      ],
      "metadata": {
        "id": "hn-w5OuM45CH"
      }
    },
    {
      "cell_type": "code",
      "source": [
        "import datetime\n",
        "# 取得回測資料\n",
        "prod=int(input(\"請輸入要查詢的股票代碼:\"))\n",
        "st='2010-01-01'\n",
        "en=datetime.datetime.now().strftime('%Y-%m-%d')\n",
        "data=getPriceAndInstInvest_FM(prod,st,en)\n",
        "\n",
        "# 計算 外資平均買賣\n",
        "data['F_day']=data['外陸資買進股數(不含外資自營商)']-data['外陸資賣出股數(不含外資自營商)']\n",
        "data['F_month']=(data['F_day']).rolling(40).sum()\n",
        "data['F_mean']=(data['F_month']).rolling(20).mean()\n",
        "# 初始部位\n",
        "position=0\n",
        "# 當天訊號\n",
        "signal=0\n",
        "\n",
        "for i in range(data.shape[0]-1):\n",
        "    # 取得策略會應用到的變數\n",
        "    c_time=data.index[i]\n",
        "    c_high=data.loc[c_time,'High']\n",
        "    c_close=data.loc[c_time,'Close']\n",
        "    c_F_month=data.loc[c_time,'F_month']\n",
        "    c_F_mean=data.loc[c_time,'F_mean']\n",
        "    # 取下一期資料做為進場資料\n",
        "    n_time=data.index[i+1]\n",
        "    n_open=data.loc[n_time,'Open']\n",
        "\n",
        "    # 進場程序\n",
        "    if position == 0 :\n",
        "        if c_F_month > c_F_mean :\n",
        "            position = 1\n",
        "            signal = 3\n",
        "        else :\n",
        "            signal = 1\n",
        "    # 出場程序\n",
        "    elif position ==1 :\n",
        "        # 出場邏輯\n",
        "        if c_F_month < c_F_mean :\n",
        "            position = 0\n",
        "            signal = 4\n",
        "        else:\n",
        "            signal = 2\n",
        "\n",
        "strategy_name='跟著外資策略'\n",
        "result = get_company_name(prod)\n",
        "\n",
        "if signal==1:\n",
        "    line_print('\\n %s \\n %s 【$s】 \\n %s \\n維持空手'%(strategy_name,prod,result,en))\n",
        "elif signal==2:\n",
        "    line_print('\\n %s \\n %s 【%s】 \\n %s \\n維持進場'%(strategy_name,prod,result,en))\n",
        "elif signal==3:\n",
        "    line_print('\\n %s \\n %s 【%s】 \\n %s \\n進場訊號'%(strategy_name,prod,result,en))\n",
        "elif signal==4:\n",
        "    line_print('\\n %s \\n %s 【%s】 \\n %s \\n出場訊號'%(strategy_name,prod,result,en))"
      ],
      "metadata": {
        "colab": {
          "base_uri": "https://localhost:8080/"
        },
        "id": "BI-hW7sg0h2s",
        "outputId": "13be864f-1b3c-4104-903d-d58d2f5a30be"
      },
      "execution_count": 10,
      "outputs": [
        {
          "name": "stdout",
          "output_type": "stream",
          "text": [
            "請輸入要查詢的股票代碼:2329\n"
          ]
        },
        {
          "output_type": "stream",
          "name": "stderr",
          "text": [
            "\u001b[32m2024-01-25 03:48:07.926\u001b[0m | \u001b[1mINFO    \u001b[0m | \u001b[36mFinMind.data.finmind_api\u001b[0m:\u001b[36mget_data\u001b[0m:\u001b[36m125\u001b[0m - \u001b[1mdownload TaiwanStockPrice, data_id: 2329\u001b[0m\n",
            "\u001b[32m2024-01-25 03:48:10.092\u001b[0m | \u001b[1mINFO    \u001b[0m | \u001b[36mFinMind.data.finmind_api\u001b[0m:\u001b[36mget_data\u001b[0m:\u001b[36m125\u001b[0m - \u001b[1mdownload TaiwanStockInstitutionalInvestorsBuySell, data_id: 2329\u001b[0m\n"
          ]
        },
        {
          "output_type": "stream",
          "name": "stdout",
          "text": [
            "跟著外資策略 \n",
            " 2329 \n",
            " 2024-01-25 \n",
            "維持空手\n"
          ]
        }
      ]
    },
    {
      "cell_type": "markdown",
      "source": [
        "###**跟著大戶策略**"
      ],
      "metadata": {
        "id": "vciHON9C7VEP"
      }
    },
    {
      "cell_type": "code",
      "source": [
        "import datetime\n",
        "import twstock\n",
        "# 取得回測資料\n",
        "prod=int(input(\"請輸入要查詢的股票代碼:\"))\n",
        "st='2010-01-01'\n",
        "en=datetime.datetime.now().strftime('%Y-%m-%d')\n",
        "data=getPriceAndShareHolder(prod,st,en)\n",
        "\n",
        "data['major'] = data['12'] + data['13'] + data['14'] + data['15'] #400張以上為大戶\n",
        "data['major_ma'] = data.rolling(8)['major'].mean()\n",
        "data['total_people_ma'] = data.rolling(8)['total_people'].mean()\n",
        "\n",
        "position=0\n",
        "# 當天訊號\n",
        "signal=0\n",
        "\n",
        "for i in range(data.shape[0]-1):\n",
        "    c_time = data.index[i]\n",
        "    c_high = data.loc[c_time,'high']\n",
        "    c_close = data.loc[c_time,'close']\n",
        "    c_major = data.loc[c_time,'major']\n",
        "    c_major_ma = data.loc[c_time,'major_ma']\n",
        "    c_total_people = data.loc[c_time,'total_people']\n",
        "    c_total_people_ma = data.loc[c_time,'total_people_ma']\n",
        "\n",
        "    n_time = data.index[i+1]\n",
        "    n_open = data.loc[n_time,'open']\n",
        "\n",
        "    # 進場程序\n",
        "    if position == 0 :\n",
        "      if c_major > c_major_ma and c_total_people > c_total_people_ma :\n",
        "          position = 1\n",
        "          signal = 3\n",
        "      else :\n",
        "          signal = 1\n",
        "    # 出場程序\n",
        "    elif position ==1 :\n",
        "        # 出場邏輯\n",
        "      if c_major < c_major_ma:\n",
        "            position = 0\n",
        "            signal = 4\n",
        "      else:\n",
        "            signal = 2\n",
        "\n",
        "result = get_company_name(prod)\n",
        "strategy_name='跟著大戶策略'\n",
        "\n",
        "if signal==1:\n",
        "    line_print('\\n %s \\n %s 【$s】 \\n %s \\n維持空手'%(strategy_name,prod,result,en))\n",
        "elif signal==2:\n",
        "    line_print('\\n %s \\n %s 【%s】 \\n %s \\n維持進場'%(strategy_name,prod,result,en))\n",
        "elif signal==3:\n",
        "    line_print('\\n %s \\n %s 【%s】 \\n %s \\n進場訊號'%(strategy_name,prod,result,en))\n",
        "elif signal==4:\n",
        "    line_print('\\n %s \\n %s 【%s】 \\n %s \\n出場訊號'%(strategy_name,prod,result,en))"
      ],
      "metadata": {
        "colab": {
          "base_uri": "https://localhost:8080/"
        },
        "id": "I9O5h5Z05awO",
        "outputId": "d5f2d378-1342-457c-e38d-5b88d0e5fd81"
      },
      "execution_count": 24,
      "outputs": [
        {
          "name": "stdout",
          "output_type": "stream",
          "text": [
            "請輸入要查詢的股票代碼:2324\n"
          ]
        },
        {
          "output_type": "stream",
          "name": "stderr",
          "text": [
            "\u001b[32m2024-01-25 13:38:45.788\u001b[0m | \u001b[1mINFO    \u001b[0m | \u001b[36mFinMind.data.finmind_api\u001b[0m:\u001b[36mget_data\u001b[0m:\u001b[36m125\u001b[0m - \u001b[1mdownload TaiwanStockPrice, data_id: 2324\u001b[0m\n"
          ]
        },
        {
          "output_type": "stream",
          "name": "stdout",
          "text": [
            "\n",
            " 跟著大戶策略 \n",
            " 2324 仁寶 \n",
            " 2024-01-25 \n",
            "進場訊號\n"
          ]
        }
      ]
    },
    {
      "cell_type": "markdown",
      "source": [
        "###**反著散戶策略**"
      ],
      "metadata": {
        "id": "Goeg1FZE9hIi"
      }
    },
    {
      "cell_type": "code",
      "source": [
        "import datetime\n",
        "# 取得回測資料\n",
        "prod=int(input(\"請輸入要查詢的股票代碼:\"))\n",
        "st='2010-01-01'\n",
        "en=datetime.datetime.now().strftime('%Y-%m-%d')\n",
        "data=getPriceAndShareHolder(prod,st,en)\n",
        "\n",
        "# 30張持有以下稱為散戶\n",
        "data['minority']=data['1']+data['2']+data['3']+data['4']\n",
        "# 算出過去的平均\n",
        "data['minority_ma']=data.rolling(8)['minority'].mean()\n",
        "data['ma']=data.rolling(4)['close'].mean()\n",
        "data['total_people_ma']=data.rolling(8)['total_people'].mean()\n",
        "\n",
        "position=0\n",
        "# 當天訊號\n",
        "signal=0\n",
        "\n",
        "for i in range(data.shape[0]-1):\n",
        "    # 取得策略會應用到的變數\n",
        "    c_time=data.index[i]\n",
        "    c_high=data.loc[c_time,'high']\n",
        "    c_close=data.loc[c_time,'close']\n",
        "    c_ma=data.loc[c_time,'ma']\n",
        "    c_minority=data.loc[c_time,'minority']\n",
        "    c_minority_ma=data.loc[c_time,'minority_ma']\n",
        "    c_total_people=data.loc[c_time,'total_people']\n",
        "    c_total_people_ma=data.loc[c_time,'total_people_ma']\n",
        "    # 取下一期資料做為進場資料\n",
        "    n_time=data.index[i+1]\n",
        "    n_open=data.loc[n_time,'open']\n",
        "\n",
        "    # 進場程序\n",
        "    if position == 0 :\n",
        "        if c_close > c_ma and c_minority < c_minority_ma :\n",
        "          position = 1\n",
        "          signal = 3\n",
        "        else :\n",
        "          signal = 1\n",
        "    # 出場程序\n",
        "    elif position ==1 :\n",
        "        # 出場邏輯\n",
        "        if c_minority > c_minority_ma:\n",
        "            position = 0\n",
        "            signal = 4\n",
        "        else:\n",
        "            signal = 2\n",
        "\n",
        "strategy_name='反著散戶策略'\n",
        "result = get_company_name(prod)\n",
        "\n",
        "if signal==1:\n",
        "    line_print('\\n %s \\n %s 【$s】 \\n %s \\n維持空手'%(strategy_name,prod,result,en))\n",
        "elif signal==2:\n",
        "    line_print('\\n %s \\n %s 【%s】 \\n %s \\n維持進場'%(strategy_name,prod,result,en))\n",
        "elif signal==3:\n",
        "    line_print('\\n %s \\n %s 【%s】 \\n %s \\n進場訊號'%(strategy_name,prod,result,en))\n",
        "elif signal==4:\n",
        "    line_print('\\n %s \\n %s 【%s】 \\n %s \\n出場訊號'%(strategy_name,prod,result,en))"
      ],
      "metadata": {
        "colab": {
          "base_uri": "https://localhost:8080/"
        },
        "id": "TJ1Ugzxm85Kh",
        "outputId": "78086702-980b-4521-fd2a-3a819f218499"
      },
      "execution_count": 13,
      "outputs": [
        {
          "name": "stdout",
          "output_type": "stream",
          "text": [
            "請輸入要查詢的股票代碼:2331\n"
          ]
        },
        {
          "output_type": "stream",
          "name": "stderr",
          "text": [
            "\u001b[32m2024-01-25 12:31:26.439\u001b[0m | \u001b[1mINFO    \u001b[0m | \u001b[36mFinMind.data.finmind_api\u001b[0m:\u001b[36mget_data\u001b[0m:\u001b[36m125\u001b[0m - \u001b[1mdownload TaiwanStockPrice, data_id: 2331\u001b[0m\n"
          ]
        },
        {
          "output_type": "stream",
          "name": "stdout",
          "text": [
            "\n",
            " 反著散戶策略 \n",
            " 2331 精英 \n",
            " 2024-01-25 \n",
            "維持空手\n"
          ]
        }
      ]
    },
    {
      "cell_type": "markdown",
      "source": [
        "###**融資融券策略**"
      ],
      "metadata": {
        "id": "TaBSbsHspJJj"
      }
    },
    {
      "cell_type": "code",
      "source": [
        "# 取得回測資料\n",
        "prod=int(input(\"請輸入要查詢的股票代碼:\"))\n",
        "st='2010-01-01'\n",
        "en=datetime.datetime.now().strftime('%Y-%m-%d')\n",
        "data=getFMPriceAndMarginTrade(prod,st,en)\n",
        "\n",
        "# 融資融券餘額\n",
        "data['mb']=data['MarginPurchaseTodayBalance'].astype(int)\n",
        "data['ms']=data['ShortSaleTodayBalance'].astype(int)\n",
        "data['mb_mean']=data['mb'].rolling(20).mean()\n",
        "data['ms_mean']=data['ms'].rolling(20).mean()\n",
        "\n",
        "# 初始部位\n",
        "position=0\n",
        "signal = 0\n",
        "# 開始回測\n",
        "for i in range(data.shape[0]-1):\n",
        "    # 取得策略會應用到的變數\n",
        "    c_time=data.index[i]\n",
        "    c_high=data.loc[c_time,'High']\n",
        "    c_close=data.loc[c_time,'Close']\n",
        "    c_mb=data.loc[c_time,'mb']\n",
        "    c_mb_mean=data.loc[c_time,'mb_mean']\n",
        "    c_ms=data.loc[c_time,'ms']\n",
        "    c_ms_mean=data.loc[c_time,'ms_mean']\n",
        "    # 取下一期資料做為進場資料\n",
        "    n_time=data.index[i+1]\n",
        "    n_open=data.loc[n_time,'Open']\n",
        "\n",
        "    # 進場程序\n",
        "    if position == 0 :\n",
        "        if c_mb < c_mb_mean*0.99 and c_ms > c_ms_mean*1.01 :\n",
        "            position = 1\n",
        "            signal = 3\n",
        "        else:\n",
        "            signal = 1\n",
        "    # 出場程序\n",
        "    elif position ==1 :\n",
        "        # 出場邏輯\n",
        "        if c_ms < c_ms_mean  :\n",
        "            position = 0\n",
        "            signal = 4\n",
        "        else:\n",
        "            signal = 2\n",
        "\n",
        "strategy_name='融資融券策略'\n",
        "result = get_company_name(prod)\n",
        "\n",
        "if signal==1:\n",
        "    line_print('\\n %s \\n %s 【$s】 \\n %s \\n維持空手'%(strategy_name,prod,result,en))\n",
        "elif signal==2:\n",
        "    line_print('\\n %s \\n %s 【%s】 \\n %s \\n維持進場'%(strategy_name,prod,result,en))\n",
        "elif signal==3:\n",
        "    line_print('\\n %s \\n %s 【%s】 \\n %s \\n進場訊號'%(strategy_name,prod,result,en))\n",
        "elif signal==4:\n",
        "    line_print('\\n %s \\n %s 【%s】 \\n %s \\n出場訊號'%(strategy_name,prod,result,en))"
      ],
      "metadata": {
        "id": "lPUlnQOPpv5m"
      },
      "execution_count": null,
      "outputs": []
    },
    {
      "cell_type": "markdown",
      "source": [
        "###**營收策略**"
      ],
      "metadata": {
        "id": "iFKeHU1MfSHG"
      }
    },
    {
      "cell_type": "code",
      "source": [
        "# 載入必要的套件\n",
        "import time,requests,os,datetime,random\n",
        "from json import loads\n",
        "import pandas as pd\n",
        "\n",
        "# 切換工作路徑\n",
        "# os.chdir('調整為自己的存檔路徑')\n",
        "\n",
        "ym_list=[]\n",
        "for y in range(2010,2024):\n",
        "    for m in range(1,13):\n",
        "        y=str(y)\n",
        "        m=str(m).zfill(2)\n",
        "        ym_list.append([y,m])\n",
        "\n",
        "# 從 2010年開始爬蟲\n",
        "first_write=True\n",
        "\n",
        "for y,m in ym_list:\n",
        "    ym=y+m\n",
        "    try:\n",
        "        print(ym)\n",
        "\n",
        "        y = int(y)-1911\n",
        "        m = int(m)\n",
        "\n",
        "        url = 'https://mops.twse.com.tw/nas/t21/sii/t21sc03_%s_%s_0.html'%(y,m)\n",
        "\n",
        "        # 下載該年月的網站，並用 pandas 轉換成 dataframe\n",
        "        r = requests.get(url)\n",
        "        r.encoding = 'cp950'\n",
        "        # 解析成pd.Dataframe\n",
        "        dfs = pd.read_html(r.text)\n",
        "\n",
        "        # 取出欄位數量為11的表格\n",
        "        data = pd.concat([df for df in dfs if df.shape[1] <= 11 and df.shape[1] > 5])\n",
        "\n",
        "        # 調整欄位名稱\n",
        "        if data.shape[1] == 10:\n",
        "            data.columns=['公司代號','公司名稱','當月營收','上月營收','去年當月營收','上月比較增減(%)','去年同月增減(%)','當月累計營收','去年累計營收','前期比較增減(%)']\n",
        "        else:\n",
        "            data.columns=['公司代號','公司名稱','當月營收','上月營收','去年當月營收','上月比較增減(%)','去年同月增減(%)','當月累計營收','去年累計營收','前期比較增減(%)','備註']\n",
        "        data['備註'] = ''\n",
        "        data=data[data['公司代號'].str[-2:] != '合計']\n",
        "        data['日期'] = ym+'10'\n",
        "\n",
        "        if first_write:\n",
        "            data.to_csv('月營收爬蟲資料.csv',encoding='cp950',index=False)\n",
        "            first_write=False\n",
        "        else:\n",
        "            data.to_csv('月營收爬蟲資料.csv',encoding='cp950',mode='a',index=False,header=False)\n",
        "    except:\n",
        "        print(ym ,'爬蟲失敗')\n",
        "        continue\n",
        "    finally:\n",
        "        time.sleep(random.randint(1,5))"
      ],
      "metadata": {
        "id": "n_3bYtHGfazK"
      },
      "execution_count": null,
      "outputs": []
    },
    {
      "cell_type": "code",
      "source": [
        "# 取得回測資料\n",
        "prod=int(input(\"請輸入要查詢的股票代碼:\"))\n",
        "st='2010-01-01'\n",
        "en=datetime.datetime.now().strftime('%Y-%m-%d')'\n",
        "data=getTSEPriceAndRevenue(prod,st,en)\n",
        "\n",
        "# 初始部位\n",
        "position = 0\n",
        "signal = 0\n",
        "# 開始回測\n",
        "for i in range(data.shape[0]-1):\n",
        "    # 取得策略會應用到的變數\n",
        "    c_time=data.index[i]\n",
        "    c_high=data.loc[c_time,'High']\n",
        "    c_close=data.loc[c_time,'Close']\n",
        "    c_earn=data.loc[c_time,'前期比較增減(%)']\n",
        "    # 取下一期資料做為進場資料\n",
        "    n_time=data.index[i+1]\n",
        "    n_open=data.loc[n_time,'Open']\n",
        "\n",
        "    # 進場程序\n",
        "    if position == 0 :\n",
        "        if c_earn > 30 :\n",
        "            position = 1\n",
        "            order_i=i\n",
        "            order_time=n_time\n",
        "            order_price=n_open\n",
        "            signal = 3\n",
        "        else:\n",
        "            signal = 1\n",
        "    # 出場程序\n",
        "    elif position ==1 :\n",
        "        # 出場邏輯\n",
        "        if c_earn < 30 or i == data.shape[0]-2:\n",
        "            position = 0\n",
        "            cover_time=n_time\n",
        "            cover_price=n_open\n",
        "            signal = 4\n",
        "        else:\n",
        "            signal = 2\n",
        "\n",
        "strategy_name='營收策略'\n",
        "result = get_company_name(prod)\n",
        "\n",
        "if signal==1:\n",
        "    line_print('\\n %s \\n %s 【$s】 \\n %s \\n維持空手'%(strategy_name,prod,result,en))\n",
        "elif signal==2:\n",
        "    line_print('\\n %s \\n %s 【%s】 \\n %s \\n維持進場'%(strategy_name,prod,result,en))\n",
        "elif signal==3:\n",
        "    line_print('\\n %s \\n %s 【%s】 \\n %s \\n進場訊號'%(strategy_name,prod,result,en))\n",
        "elif signal==4:\n",
        "    line_print('\\n %s \\n %s 【%s】 \\n %s \\n出場訊號'%(strategy_name,prod,result,en))"
      ],
      "metadata": {
        "id": "FEcRD24efiFp"
      },
      "execution_count": null,
      "outputs": []
    },
    {
      "cell_type": "markdown",
      "source": [
        "###**我的持股**\n",
        "\n",
        "---\n",
        "\n"
      ],
      "metadata": {
        "id": "hu4WdlTYzLgo"
      }
    },
    {
      "cell_type": "markdown",
      "source": [
        "####飛寶企業"
      ],
      "metadata": {
        "id": "Y1ocA6ZlziUx"
      }
    },
    {
      "cell_type": "code",
      "source": [
        "import datetime\n",
        "import twstock\n",
        "# 取得回測資料\n",
        "prod='4413'\n",
        "st='2010-01-01'\n",
        "en=datetime.datetime.now().strftime('%Y-%m-%d')\n",
        "data=getPriceAndShareHolder(prod,st,en)\n",
        "\n",
        "data['major'] = data['12'] + data['13'] + data['14'] + data['15'] #400張以上為大戶\n",
        "data['major_ma'] = data.rolling(8)['major'].mean()\n",
        "data['total_people_ma'] = data.rolling(8)['total_people'].mean()\n",
        "\n",
        "position=0\n",
        "# 當天訊號\n",
        "signal=0\n",
        "\n",
        "for i in range(data.shape[0]-1):\n",
        "    c_time = data.index[i]\n",
        "    c_high = data.loc[c_time,'high']\n",
        "    c_close = data.loc[c_time,'close']\n",
        "    c_major = data.loc[c_time,'major']\n",
        "    c_major_ma = data.loc[c_time,'major_ma']\n",
        "    c_total_people = data.loc[c_time,'total_people']\n",
        "    c_total_people_ma = data.loc[c_time,'total_people_ma']\n",
        "\n",
        "    n_time = data.index[i+1]\n",
        "    n_open = data.loc[n_time,'open']\n",
        "\n",
        "    # 進場程序\n",
        "    if position == 0 :\n",
        "      if c_major > c_major_ma and c_total_people > c_total_people_ma :\n",
        "          position = 1\n",
        "          signal = 3\n",
        "      else :\n",
        "          signal = 1\n",
        "    # 出場程序\n",
        "    elif position ==1 :\n",
        "        # 出場邏輯\n",
        "      if c_major < c_major_ma:\n",
        "            position = 0\n",
        "            signal = 4\n",
        "      else:\n",
        "            signal = 2\n",
        "\n",
        "result = get_company_name(prod)\n",
        "strategy_name='跟著大戶策略'\n",
        "if signal==1:\n",
        "    line_print('\\n %s \\n %s %s \\n %s \\n維持空手'%(strategy_name,prod,result,en))\n",
        "elif signal==2:\n",
        "    line_print('\\n %s \\n %s %s \\n %s \\n維持進場'%(strategy_name,prod,result,en))\n",
        "elif signal==3:\n",
        "    line_print('\\n %s \\n %s %s \\n %s \\n進場訊號'%(strategy_name,prod,result,en))\n",
        "elif signal==4:\n",
        "    line_print('\\n %s \\n %s %s \\n %s \\n出場訊號'%(strategy_name,prod,result,en))"
      ],
      "metadata": {
        "colab": {
          "base_uri": "https://localhost:8080/"
        },
        "id": "oUTxZq6uzVm7",
        "outputId": "73d67e6b-10e5-4c45-ba74-ce852ea03720"
      },
      "execution_count": 22,
      "outputs": [
        {
          "output_type": "stream",
          "name": "stderr",
          "text": [
            "\u001b[32m2024-01-25 13:35:05.375\u001b[0m | \u001b[1mINFO    \u001b[0m | \u001b[36mFinMind.data.finmind_api\u001b[0m:\u001b[36mget_data\u001b[0m:\u001b[36m125\u001b[0m - \u001b[1mdownload TaiwanStockPrice, data_id: 4413\u001b[0m\n",
            "\u001b[32m2024-01-25 13:35:07.381\u001b[0m | \u001b[1mINFO    \u001b[0m | \u001b[36mFinMind.data.finmind_api\u001b[0m:\u001b[36mget_data\u001b[0m:\u001b[36m125\u001b[0m - \u001b[1mdownload TaiwanStockHoldingSharesPer, data_id: 4413\u001b[0m\n"
          ]
        },
        {
          "output_type": "stream",
          "name": "stdout",
          "text": [
            "\n",
            " 跟著大戶策略 \n",
            " 4413 飛寶 \n",
            " 2024-01-25 \n",
            "進場訊號\n"
          ]
        }
      ]
    },
    {
      "cell_type": "markdown",
      "source": [
        "####精英"
      ],
      "metadata": {
        "id": "jbemX9MwzsMc"
      }
    },
    {
      "cell_type": "code",
      "source": [
        "import datetime\n",
        "import twstock\n",
        "# 取得回測資料\n",
        "prod=\"2331\"\n",
        "st='2010-01-01'\n",
        "en=datetime.datetime.now().strftime('%Y-%m-%d')\n",
        "data=getPriceAndShareHolder(prod,st,en)\n",
        "\n",
        "data['major'] = data['12'] + data['13'] + data['14'] + data['15'] #400張以上為大戶\n",
        "data['major_ma'] = data.rolling(8)['major'].mean()\n",
        "data['total_people_ma'] = data.rolling(8)['total_people'].mean()\n",
        "\n",
        "position=0\n",
        "# 當天訊號\n",
        "signal=0\n",
        "\n",
        "for i in range(data.shape[0]-1):\n",
        "    c_time = data.index[i]\n",
        "    c_high = data.loc[c_time,'high']\n",
        "    c_close = data.loc[c_time,'close']\n",
        "    c_major = data.loc[c_time,'major']\n",
        "    c_major_ma = data.loc[c_time,'major_ma']\n",
        "    c_total_people = data.loc[c_time,'total_people']\n",
        "    c_total_people_ma = data.loc[c_time,'total_people_ma']\n",
        "\n",
        "    n_time = data.index[i+1]\n",
        "    n_open = data.loc[n_time,'open']\n",
        "\n",
        "    # 進場程序\n",
        "    if position == 0 :\n",
        "      if c_major > c_major_ma and c_total_people > c_total_people_ma :\n",
        "          position = 1\n",
        "          signal = 3\n",
        "      else :\n",
        "          signal = 1\n",
        "    # 出場程序\n",
        "    elif position ==1 :\n",
        "        # 出場邏輯\n",
        "      if c_major < c_major_ma:\n",
        "            position = 0\n",
        "            signal = 4\n",
        "      else:\n",
        "            signal = 2\n",
        "\n",
        "result = get_company_name(prod)\n",
        "strategy_name='跟著大戶策略'\n",
        "if signal==1:\n",
        "    line_print('\\n %s \\n %s %s \\n %s \\n維持空手'%(strategy_name,prod,result,en))\n",
        "elif signal==2:\n",
        "    line_print('\\n %s \\n %s %s \\n %s \\n維持進場'%(strategy_name,prod,result,en))\n",
        "elif signal==3:\n",
        "    line_print('\\n %s \\n %s %s \\n %s \\n進場訊號'%(strategy_name,prod,result,en))\n",
        "elif signal==4:\n",
        "    line_print('\\n %s \\n %s %s \\n %s \\n出場訊號'%(strategy_name,prod,result,en))"
      ],
      "metadata": {
        "colab": {
          "base_uri": "https://localhost:8080/"
        },
        "id": "Dr3fqliSzp0e",
        "outputId": "d74e69dd-1fa4-42ca-aa14-842adfc57d1b"
      },
      "execution_count": 17,
      "outputs": [
        {
          "output_type": "stream",
          "name": "stderr",
          "text": [
            "\u001b[32m2024-01-25 13:32:37.816\u001b[0m | \u001b[1mINFO    \u001b[0m | \u001b[36mFinMind.data.finmind_api\u001b[0m:\u001b[36mget_data\u001b[0m:\u001b[36m125\u001b[0m - \u001b[1mdownload TaiwanStockPrice, data_id: 2331\u001b[0m\n"
          ]
        },
        {
          "output_type": "stream",
          "name": "stdout",
          "text": [
            "\n",
            " 跟著大戶策略 \n",
            " 2331 精英 \n",
            " 2024-01-25 \n",
            "維持空手\n"
          ]
        }
      ]
    },
    {
      "cell_type": "markdown",
      "source": [
        "####志豐"
      ],
      "metadata": {
        "id": "jNCPR7bzz22W"
      }
    },
    {
      "cell_type": "code",
      "source": [
        "import datetime\n",
        "import twstock\n",
        "# 取得回測資料\n",
        "prod=\"3206\"\n",
        "st='2010-01-01'\n",
        "en=datetime.datetime.now().strftime('%Y-%m-%d')\n",
        "data=getPriceAndShareHolder(prod,st,en)\n",
        "\n",
        "data['major'] = data['12'] + data['13'] + data['14'] + data['15'] #400張以上為大戶\n",
        "data['major_ma'] = data.rolling(8)['major'].mean()\n",
        "data['total_people_ma'] = data.rolling(8)['total_people'].mean()\n",
        "\n",
        "position=0\n",
        "# 當天訊號\n",
        "signal=0\n",
        "\n",
        "for i in range(data.shape[0]-1):\n",
        "    c_time = data.index[i]\n",
        "    c_high = data.loc[c_time,'high']\n",
        "    c_close = data.loc[c_time,'close']\n",
        "    c_major = data.loc[c_time,'major']\n",
        "    c_major_ma = data.loc[c_time,'major_ma']\n",
        "    c_total_people = data.loc[c_time,'total_people']\n",
        "    c_total_people_ma = data.loc[c_time,'total_people_ma']\n",
        "\n",
        "    n_time = data.index[i+1]\n",
        "    n_open = data.loc[n_time,'open']\n",
        "\n",
        "    # 進場程序\n",
        "    if position == 0 :\n",
        "      if c_major > c_major_ma and c_total_people > c_total_people_ma :\n",
        "          position = 1\n",
        "          signal = 3\n",
        "      else :\n",
        "          signal = 1\n",
        "    # 出場程序\n",
        "    elif position ==1 :\n",
        "        # 出場邏輯\n",
        "      if c_major < c_major_ma:\n",
        "            position = 0\n",
        "            signal = 4\n",
        "      else:\n",
        "            signal = 2\n",
        "\n",
        "result = get_company_name(prod)\n",
        "strategy_name='跟著大戶策略'\n",
        "if signal==1:\n",
        "    line_print('\\n %s \\n %s %s \\n %s \\n維持空手'%(strategy_name,prod,result,en))\n",
        "elif signal==2:\n",
        "    line_print('\\n %s \\n %s %s \\n %s \\n維持進場'%(strategy_name,prod,result,en))\n",
        "elif signal==3:\n",
        "    line_print('\\n %s \\n %s %s \\n %s \\n進場訊號'%(strategy_name,prod,result,en))\n",
        "elif signal==4:\n",
        "    line_print('\\n %s \\n %s %s \\n %s \\n出場訊號'%(strategy_name,prod,result,en))"
      ],
      "metadata": {
        "colab": {
          "base_uri": "https://localhost:8080/"
        },
        "id": "riuAphRrz6YZ",
        "outputId": "3a1d2f0b-5672-489a-8dc2-c623ec3e1b65"
      },
      "execution_count": 18,
      "outputs": [
        {
          "output_type": "stream",
          "name": "stderr",
          "text": [
            "\u001b[32m2024-01-25 13:32:44.156\u001b[0m | \u001b[1mINFO    \u001b[0m | \u001b[36mFinMind.data.finmind_api\u001b[0m:\u001b[36mget_data\u001b[0m:\u001b[36m125\u001b[0m - \u001b[1mdownload TaiwanStockPrice, data_id: 3206\u001b[0m\n",
            "\u001b[32m2024-01-25 13:32:45.905\u001b[0m | \u001b[1mINFO    \u001b[0m | \u001b[36mFinMind.data.finmind_api\u001b[0m:\u001b[36mget_data\u001b[0m:\u001b[36m125\u001b[0m - \u001b[1mdownload TaiwanStockHoldingSharesPer, data_id: 3206\u001b[0m\n"
          ]
        },
        {
          "output_type": "stream",
          "name": "stdout",
          "text": [
            "\n",
            " 跟著大戶策略 \n",
            " 3206 志豐 \n",
            " 2024-01-25 \n",
            "維持空手\n"
          ]
        }
      ]
    },
    {
      "cell_type": "markdown",
      "source": [
        "####康舒"
      ],
      "metadata": {
        "id": "mEXYDMRk0AhD"
      }
    },
    {
      "cell_type": "code",
      "source": [
        "import datetime\n",
        "import twstock\n",
        "# 取得回測資料\n",
        "prod=\"6282\"\n",
        "st='2010-01-01'\n",
        "en=datetime.datetime.now().strftime('%Y-%m-%d')\n",
        "data=getPriceAndShareHolder(prod,st,en)\n",
        "\n",
        "data['major'] = data['12'] + data['13'] + data['14'] + data['15'] #400張以上為大戶\n",
        "data['major_ma'] = data.rolling(8)['major'].mean()\n",
        "data['total_people_ma'] = data.rolling(8)['total_people'].mean()\n",
        "\n",
        "position=0\n",
        "# 當天訊號\n",
        "signal=0\n",
        "\n",
        "for i in range(data.shape[0]-1):\n",
        "    c_time = data.index[i]\n",
        "    c_high = data.loc[c_time,'high']\n",
        "    c_close = data.loc[c_time,'close']\n",
        "    c_major = data.loc[c_time,'major']\n",
        "    c_major_ma = data.loc[c_time,'major_ma']\n",
        "    c_total_people = data.loc[c_time,'total_people']\n",
        "    c_total_people_ma = data.loc[c_time,'total_people_ma']\n",
        "\n",
        "    n_time = data.index[i+1]\n",
        "    n_open = data.loc[n_time,'open']\n",
        "\n",
        "    # 進場程序\n",
        "    if position == 0 :\n",
        "      if c_major > c_major_ma and c_total_people > c_total_people_ma :\n",
        "          position = 1\n",
        "          signal = 3\n",
        "      else :\n",
        "          signal = 1\n",
        "    # 出場程序\n",
        "    elif position ==1 :\n",
        "        # 出場邏輯\n",
        "      if c_major < c_major_ma:\n",
        "            position = 0\n",
        "            signal = 4\n",
        "      else:\n",
        "            signal = 2\n",
        "\n",
        "result = get_company_name(prod)\n",
        "strategy_name='跟著大戶策略'\n",
        "if signal==1:\n",
        "    line_print('\\n %s \\n %s %s \\n %s \\n維持空手'%(strategy_name,prod,result,en))\n",
        "elif signal==2:\n",
        "    line_print('\\n %s \\n %s %s \\n %s \\n維持進場'%(strategy_name,prod,result,en))\n",
        "elif signal==3:\n",
        "    line_print('\\n %s \\n %s %s \\n %s \\n進場訊號'%(strategy_name,prod,result,en))\n",
        "elif signal==4:\n",
        "    line_print('\\n %s \\n %s %s \\n %s \\n出場訊號'%(strategy_name,prod,result,en))"
      ],
      "metadata": {
        "colab": {
          "base_uri": "https://localhost:8080/"
        },
        "id": "u2__Rpku0C6C",
        "outputId": "1414a926-4f06-4af0-e511-083702dcd625"
      },
      "execution_count": 19,
      "outputs": [
        {
          "output_type": "stream",
          "name": "stderr",
          "text": [
            "\u001b[32m2024-01-25 13:32:52.476\u001b[0m | \u001b[1mINFO    \u001b[0m | \u001b[36mFinMind.data.finmind_api\u001b[0m:\u001b[36mget_data\u001b[0m:\u001b[36m125\u001b[0m - \u001b[1mdownload TaiwanStockPrice, data_id: 6282\u001b[0m\n",
            "\u001b[32m2024-01-25 13:32:53.888\u001b[0m | \u001b[1mINFO    \u001b[0m | \u001b[36mFinMind.data.finmind_api\u001b[0m:\u001b[36mget_data\u001b[0m:\u001b[36m125\u001b[0m - \u001b[1mdownload TaiwanStockHoldingSharesPer, data_id: 6282\u001b[0m\n"
          ]
        },
        {
          "output_type": "stream",
          "name": "stdout",
          "text": [
            "\n",
            " 跟著大戶策略 \n",
            " 6282 康舒 \n",
            " 2024-01-25 \n",
            "維持空手\n"
          ]
        }
      ]
    },
    {
      "cell_type": "markdown",
      "source": [
        "####敬鵬"
      ],
      "metadata": {
        "id": "lzb_gHrP0UMT"
      }
    },
    {
      "cell_type": "code",
      "source": [
        "import datetime\n",
        "import twstock\n",
        "# 取得回測資料\n",
        "prod=\"2355\"\n",
        "st='2010-01-01'\n",
        "en=datetime.datetime.now().strftime('%Y-%m-%d')\n",
        "data=getPriceAndShareHolder(prod,st,en)\n",
        "\n",
        "data['major'] = data['12'] + data['13'] + data['14'] + data['15'] #400張以上為大戶\n",
        "data['major_ma'] = data.rolling(8)['major'].mean()\n",
        "data['total_people_ma'] = data.rolling(8)['total_people'].mean()\n",
        "\n",
        "position=0\n",
        "# 當天訊號\n",
        "signal=0\n",
        "\n",
        "for i in range(data.shape[0]-1):\n",
        "    c_time = data.index[i]\n",
        "    c_high = data.loc[c_time,'high']\n",
        "    c_close = data.loc[c_time,'close']\n",
        "    c_major = data.loc[c_time,'major']\n",
        "    c_major_ma = data.loc[c_time,'major_ma']\n",
        "    c_total_people = data.loc[c_time,'total_people']\n",
        "    c_total_people_ma = data.loc[c_time,'total_people_ma']\n",
        "\n",
        "    n_time = data.index[i+1]\n",
        "    n_open = data.loc[n_time,'open']\n",
        "\n",
        "    # 進場程序\n",
        "    if position == 0 :\n",
        "      if c_major > c_major_ma and c_total_people > c_total_people_ma :\n",
        "          position = 1\n",
        "          signal = 3\n",
        "      else :\n",
        "          signal = 1\n",
        "    # 出場程序\n",
        "    elif position ==1 :\n",
        "        # 出場邏輯\n",
        "      if c_major < c_major_ma:\n",
        "            position = 0\n",
        "            signal = 4\n",
        "      else:\n",
        "            signal = 2\n",
        "\n",
        "result = get_company_name(prod)\n",
        "strategy_name='跟著大戶策略'\n",
        "if signal==1:\n",
        "    line_print('\\n %s \\n %s %s \\n %s \\n維持空手'%(strategy_name,prod,result,en))\n",
        "elif signal==2:\n",
        "    line_print('\\n %s \\n %s %s \\n %s \\n維持進場'%(strategy_name,prod,result,en))\n",
        "elif signal==3:\n",
        "    line_print('\\n %s \\n %s %s \\n %s \\n進場訊號'%(strategy_name,prod,result,en))\n",
        "elif signal==4:\n",
        "    line_print('\\n %s \\n %s %s \\n %s \\n出場訊號'%(strategy_name,prod,result,en))"
      ],
      "metadata": {
        "colab": {
          "base_uri": "https://localhost:8080/"
        },
        "id": "kETXGwOf0Wrh",
        "outputId": "b9aad298-0733-41fa-9910-085bb9747463"
      },
      "execution_count": 20,
      "outputs": [
        {
          "output_type": "stream",
          "name": "stderr",
          "text": [
            "\u001b[32m2024-01-25 13:33:00.053\u001b[0m | \u001b[1mINFO    \u001b[0m | \u001b[36mFinMind.data.finmind_api\u001b[0m:\u001b[36mget_data\u001b[0m:\u001b[36m125\u001b[0m - \u001b[1mdownload TaiwanStockPrice, data_id: 2355\u001b[0m\n",
            "\u001b[32m2024-01-25 13:33:01.430\u001b[0m | \u001b[1mINFO    \u001b[0m | \u001b[36mFinMind.data.finmind_api\u001b[0m:\u001b[36mget_data\u001b[0m:\u001b[36m125\u001b[0m - \u001b[1mdownload TaiwanStockHoldingSharesPer, data_id: 2355\u001b[0m\n"
          ]
        },
        {
          "output_type": "stream",
          "name": "stdout",
          "text": [
            "\n",
            " 跟著大戶策略 \n",
            " 2355 敬鵬 \n",
            " 2024-01-25 \n",
            "維持空手\n"
          ]
        }
      ]
    },
    {
      "cell_type": "markdown",
      "source": [
        "####仁寶"
      ],
      "metadata": {
        "id": "qzGdudor1wCE"
      }
    },
    {
      "cell_type": "code",
      "source": [
        "import datetime\n",
        "import twstock\n",
        "# 取得回測資料\n",
        "prod=\"2324\"\n",
        "st='2010-01-01'\n",
        "en=datetime.datetime.now().strftime('%Y-%m-%d')\n",
        "data=getPriceAndShareHolder(prod,st,en)\n",
        "\n",
        "data['major'] = data['12'] + data['13'] + data['14'] + data['15'] #400張以上為大戶\n",
        "data['major_ma'] = data.rolling(8)['major'].mean()\n",
        "data['total_people_ma'] = data.rolling(8)['total_people'].mean()\n",
        "\n",
        "position=0\n",
        "# 當天訊號\n",
        "signal=0\n",
        "\n",
        "for i in range(data.shape[0]-1):\n",
        "    c_time = data.index[i]\n",
        "    c_high = data.loc[c_time,'high']\n",
        "    c_close = data.loc[c_time,'close']\n",
        "    c_major = data.loc[c_time,'major']\n",
        "    c_major_ma = data.loc[c_time,'major_ma']\n",
        "    c_total_people = data.loc[c_time,'total_people']\n",
        "    c_total_people_ma = data.loc[c_time,'total_people_ma']\n",
        "\n",
        "    n_time = data.index[i+1]\n",
        "    n_open = data.loc[n_time,'open']\n",
        "\n",
        "    # 進場程序\n",
        "    if position == 0 :\n",
        "      if c_major > c_major_ma and c_total_people > c_total_people_ma :\n",
        "          position = 1\n",
        "          signal = 3\n",
        "      else :\n",
        "          signal = 1\n",
        "    # 出場程序\n",
        "    elif position ==1 :\n",
        "        # 出場邏輯\n",
        "      if c_major < c_major_ma:\n",
        "            position = 0\n",
        "            signal = 4\n",
        "      else:\n",
        "            signal = 2\n",
        "\n",
        "result = get_company_name(prod)\n",
        "strategy_name='跟著大戶策略'\n",
        "if signal==1:\n",
        "    line_print('\\n %s \\n %s %s \\n %s \\n維持空手'%(strategy_name,prod,result,en))\n",
        "elif signal==2:\n",
        "    line_print('\\n %s \\n %s %s \\n %s \\n維持進場'%(strategy_name,prod,result,en))\n",
        "elif signal==3:\n",
        "    line_print('\\n %s \\n %s %s \\n %s \\n進場訊號'%(strategy_name,prod,result,en))\n",
        "elif signal==4:\n",
        "    line_print('\\n %s \\n %s %s \\n %s \\n出場訊號'%(strategy_name,prod,result,en))"
      ],
      "metadata": {
        "colab": {
          "base_uri": "https://localhost:8080/"
        },
        "id": "TJL8rlbC1zZ4",
        "outputId": "2a86f42d-9ba4-45e1-f133-7b355196062c"
      },
      "execution_count": 23,
      "outputs": [
        {
          "output_type": "stream",
          "name": "stderr",
          "text": [
            "\u001b[32m2024-01-25 13:37:55.905\u001b[0m | \u001b[1mINFO    \u001b[0m | \u001b[36mFinMind.data.finmind_api\u001b[0m:\u001b[36mget_data\u001b[0m:\u001b[36m125\u001b[0m - \u001b[1mdownload TaiwanStockPrice, data_id: 2324\u001b[0m\n",
            "\u001b[32m2024-01-25 13:37:58.025\u001b[0m | \u001b[1mINFO    \u001b[0m | \u001b[36mFinMind.data.finmind_api\u001b[0m:\u001b[36mget_data\u001b[0m:\u001b[36m125\u001b[0m - \u001b[1mdownload TaiwanStockHoldingSharesPer, data_id: 2324\u001b[0m\n"
          ]
        },
        {
          "output_type": "stream",
          "name": "stdout",
          "text": [
            "\n",
            " 跟著大戶策略 \n",
            " 2324 仁寶 \n",
            " 2024-01-25 \n",
            "進場訊號\n"
          ]
        }
      ]
    },
    {
      "cell_type": "code",
      "source": [
        "import sys\n",
        "print(sys.path)"
      ],
      "metadata": {
        "colab": {
          "base_uri": "https://localhost:8080/"
        },
        "id": "tH9aCLuY1roi",
        "outputId": "82367fe1-56bf-42b0-9bff-302b5b788422"
      },
      "execution_count": 6,
      "outputs": [
        {
          "output_type": "stream",
          "name": "stdout",
          "text": [
            "['/content', '/env/python', '/usr/lib/python310.zip', '/usr/lib/python3.10', '/usr/lib/python3.10/lib-dynload', '', '/usr/local/lib/python3.10/dist-packages', '/usr/lib/python3/dist-packages', '/usr/local/lib/python3.10/dist-packages/IPython/extensions', '/root/.ipython', '/usr/local/lib/python3.10/dist-packages/FinMind', '/usr/local/lib/python3.10/dist-packages/FinMind']\n"
          ]
        }
      ]
    }
  ]
}