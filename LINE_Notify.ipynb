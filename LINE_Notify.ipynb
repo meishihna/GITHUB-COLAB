{
  "nbformat": 4,
  "nbformat_minor": 0,
  "metadata": {
    "colab": {
      "provenance": [],
      "authorship_tag": "ABX9TyNHWdzsnjTiSRu0o3SbEapd",
      "include_colab_link": true
    },
    "kernelspec": {
      "name": "python3",
      "display_name": "Python 3"
    },
    "language_info": {
      "name": "python"
    }
  },
  "cells": [
    {
      "cell_type": "markdown",
      "metadata": {
        "id": "view-in-github",
        "colab_type": "text"
      },
      "source": [
        "<a href=\"https://colab.research.google.com/github/meishihna/GITHUB-COLAB/blob/main/LINE_Notify.ipynb\" target=\"_parent\"><img src=\"https://colab.research.google.com/assets/colab-badge.svg\" alt=\"Open In Colab\"/></a>"
      ]
    },
    {
      "cell_type": "markdown",
      "source": [
        "###**工具**"
      ],
      "metadata": {
        "id": "mOU-4TcGpFRl"
      }
    },
    {
      "cell_type": "markdown",
      "source": [
        "####定義包"
      ],
      "metadata": {
        "id": "RaFVCSma4L3Q"
      }
    },
    {
      "cell_type": "code",
      "source": [
        "!pip install FinMind\n",
        "!pip install --upgrade mplfinance"
      ],
      "metadata": {
        "id": "5Lrss7I6DCYm"
      },
      "execution_count": null,
      "outputs": []
    },
    {
      "cell_type": "code",
      "execution_count": 14,
      "metadata": {
        "id": "A7-akz7r6pQE"
      },
      "outputs": [],
      "source": [
        "import pandas as pd\n",
        "# from Data import getDataYF,getDataFM\n",
        "import mplfinance as mpf\n",
        "import matplotlib.pyplot as plt\n",
        "import os\n",
        "import numpy as np"
      ]
    },
    {
      "cell_type": "code",
      "source": [
        "import yfinance as yf\n",
        "import FinMind\n",
        "from FinMind.data import DataLoader\n",
        "datapath = \"data\"\n",
        "FM = DataLoader()\n",
        "def getDataYF(prod,st,en):\n",
        "  data=yf.download(prod,start=st,end=en)\n",
        "  data.columns=[i.lower() for i in data.columns]\n",
        "  return data\n",
        "\n",
        "def getDataFM(prod,st,en):\n",
        "  FM = DataLoader()\n",
        "  df = FM.taiwan_stock_daily(stock_id=prod, start_date = st, end_date =en)\n",
        "## 整理資料格式\n",
        "  df = df.rename(columns={\"date\": \"Date\"})\n",
        "  df.set_index(\"Date\" , inplace=True)\n",
        "  df = df.set_index(pd.DatetimeIndex(pd.to_datetime(df.index)))\n",
        "## backtesting.py 格式\n",
        "  df1 = df.rename(columns={\"open\": \"Open\", \"max\": \"High\", \"min\": \"Low\", \"close\": \"Close\", \"Trading_Volume\": \"Volume\"})\n",
        "## ta-lib 格式\n",
        "  df2 = df.rename(columns={\"max\": \"high\", \"min\": \"low\", \"Trading_Volume\": \"Volume\"})\n",
        "  return df1\n",
        "\n",
        "def getDataFM1(prod,st,en):\n",
        "  FM = DataLoader()\n",
        "  df = FM.taiwan_stock_daily(stock_id=prod, start_date = st, end_date =en)\n",
        "## 整理資料格式\n",
        "  df = df.rename(columns={\"date\": \"Date\"})\n",
        "  df.set_index(\"Date\" , inplace=True)\n",
        "  df = df.set_index(pd.DatetimeIndex(pd.to_datetime(df.index)))\n",
        "## backtesting.py 格式\n",
        "  df1 = df.rename(columns={\"open\": \"Open\", \"max\": \"High\", \"min\": \"Low\", \"close\": \"Close\", \"Trading_Volume\": \"Volume\"})\n",
        "## ta-lib 格式\n",
        "  df2 = df.rename(columns={\"max\": \"high\", \"min\": \"low\", \"Trading_Volume\": \"volume\"})\n",
        "  return df2\n",
        "\n",
        "def ChartCandle(data,addp=[]):\n",
        "  mcolor = mpf.make_marketcolors(up='r',down='g',inherit = True)\n",
        "  mstyle = mpf.make_mpf_style(base_mpf_style='yahoo',marketcolors = mcolor)\n",
        "  mpf.plot(data,addplot = addp,style = mstyle,type = 'candle',volume= True)\n",
        "\n",
        "def ChartTrade(data,trade=pd.DataFrame(),addp=[],v_enable=True):\n",
        "\n",
        "  addp = addp.copy()\n",
        "  data1 = data.copy()\n",
        "\n",
        "  if trade.shape[0] > 0:\n",
        "    trade1 = trade.copy()\n",
        "    # 進場明細\n",
        "    buy_order_trade = trade1[[2,3]]\n",
        "    buy_order_trade = buy_order_trade.set_index(2)\n",
        "    buy_order_trade.columns = ['buy_order']\n",
        "    buy_order_trade = buy_order_trade.drop_duplicates()\n",
        "    # 出場明細\n",
        "    buy_cover_trade = trade1[[4,5]]\n",
        "    buy_cover_trade = buy_cover_trade.set_index(4)\n",
        "    buy_cover_trade.columns = ['buy_cover']\n",
        "    buy_cover_trade = buy_cover_trade.drop_duplicates()\n",
        "\n",
        "    data1 = pd.concat([data1,buy_order_trade,buy_cover_trade], axis = 1)\n",
        "\n",
        "    addp.append(mpf.make_addplot(data1['buy_order']\n",
        "            ,type = 'scatter', color = '#FF4500'\n",
        "            ,marker = '^',markersize = 50))\n",
        "    addp.append(mpf.make_addplot(data1['buy_cover']\n",
        "            ,type = 'scatter',color = '#16982B'\n",
        "            ,marker = 'v',markersize = 50))\n",
        "  mcolor = mpf.make_marketcolors(up = 'r',down = 'g',inherit = True)\n",
        "  mstyle = mpf.make_mpf_style(base_mpf_style='yahoo',marketcolors = mcolor)\n",
        "  mpf.plot(data1,addplot = addp,style = mstyle,type = 'candle',volume = v_enable)\n",
        "\n",
        "# 計算交易績效指標\n",
        "def Performance(trade=pd.DataFrame(),prodtype='ETF'):\n",
        "    # 如果沒有交易紀錄 則不做接下來的計算\n",
        "    if trade.shape[0]==0:\n",
        "        print('沒有交易紀錄')\n",
        "        return False\n",
        "\n",
        "    # 交易成本 手續費0.1425%*2 (券商打折請自行計算)\n",
        "    if prodtype=='ETF':\n",
        "        cost=0.001 + 0.00285    # ETF稅金 0.1%\n",
        "    elif prodtype=='Stock':\n",
        "        cost=0.003 + 0.00285    # 股票的稅金 0.3%\n",
        "    else:\n",
        "        return False\n",
        "\n",
        "    # 將物件複製出來，不影響原本的變數內容\n",
        "    trade1=trade.copy()\n",
        "    trade1=trade1.sort_values(4)\n",
        "    trade1=trade1.reset_index(drop=True)\n",
        "\n",
        "    # 給交易明細定義欄位名稱\n",
        "    trade1.columns=['product','bs','order_time','order_price','cover_time','cover_price','order_unit']\n",
        "    # 計算出每筆的報酬率\n",
        "    trade1['ret']=(((trade1['cover_price']-trade1['order_price'])/trade1['order_price'])-cost) *trade1['order_unit']\n",
        "\n",
        "    # 1.\t總報酬率：整個回測期間的總報酬率累加\n",
        "    print('總績效 %s '%( round(trade1['ret'].sum(),4) ))\n",
        "    # 2.\t總交易次數：代表回測的交易筆數\n",
        "    print('交易次數 %s '%( trade1.shape[0] ))\n",
        "    # 3.\t平均報酬率：簡單平均報酬率（扣除交易成本後）\n",
        "    print('平均績效 %s '%( round(trade1['ret'].mean(),4) ))\n",
        "    # 4.    平均持有時間：代表平均每筆交易的持有時間\n",
        "    onopen_day=(trade1['cover_time']-trade1['order_time']).mean()\n",
        "    print('平均持有天數 %s 天'%( onopen_day.days ))\n",
        "    # 判斷是否獲利跟虧損都有績效\n",
        "    earn_trade=trade1[trade1['ret'] > 0]\n",
        "    loss_trade=trade1[trade1['ret'] <= 0]\n",
        "    if earn_trade.shape[0]==0 or loss_trade.shape[0]==0:\n",
        "        print('交易資料樣本不足(樣本中需要賺有賠的)')\n",
        "        return False\n",
        "    # 5.\t勝率：代表在交易次數中，獲利次數的佔比（扣除交易成本後）\n",
        "    earn_ratio=earn_trade.shape[0] / trade1.shape[0]\n",
        "    print('勝率 %s '%( round(earn_ratio ,2) ))\n",
        "    # 6.\t平均獲利：代表平均每一次獲利的金額（扣除交易成本後）\n",
        "    avg_earn=earn_trade['ret'].mean()\n",
        "    print('平均獲利 %s '%( round(avg_earn,4)))\n",
        "    # 7.\t平均虧損：代表平均每一次虧損的金額（扣除交易成本後）\n",
        "    avg_loss=loss_trade['ret'].mean()\n",
        "    print('平均虧損 %s '%( round(avg_loss,4) ))\n",
        "    # 8.\t賺賠比：代表平均獲利 / 平均虧損\n",
        "    odds=abs(avg_earn/avg_loss)\n",
        "    print('賺賠比 %s '%( round(odds,4) ))\n",
        "    # 9.\t期望值：代表每投入的金額，可能會回報的多少倍的金額\n",
        "    print('期望值 %s '%( round(((earn_ratio*odds)-(1-earn_ratio)),4) ))\n",
        "    # 10.\t獲利平均持有時間：代表獲利平均每筆交易的持有時間\n",
        "    earn_onopen_day=(earn_trade['cover_time']-earn_trade['order_time']).mean()\n",
        "    print('獲利平均持有天數 %s 天'%( earn_onopen_day.days ))\n",
        "    # 11.\t虧損平均持有時間：代表虧損平均每筆交易的持有時間\n",
        "    loss_onopen_day=(loss_trade['cover_time']-loss_trade['order_time']).mean()\n",
        "    print('虧損平均持有天數 %s 天'%( loss_onopen_day.days ))\n",
        "\n",
        "    # 12.\t最大連續虧損：代表連續虧損的最大幅度\n",
        "    tmp_accloss=1\n",
        "    max_accloss=1\n",
        "    for ret in trade1['ret'].values:\n",
        "        if ret <= 0:\n",
        "            tmp_accloss *= ret\n",
        "            max_accloss= min(max_accloss,tmp_accloss)\n",
        "        else:\n",
        "            tmp_accloss = 1\n",
        "    print('最大連續虧損',round(max_accloss ,4))\n",
        "\n",
        "    # 優先計算累計報酬率 並將累計報酬率的初始值改為1 繪圖較容易閱讀\n",
        "    trade1['acc_ret'] = (1+trade1['ret']).cumprod()\n",
        "    trade1.loc[-1,'acc_ret'] = 1\n",
        "    trade1.index = trade1.index + 1\n",
        "    trade1.sort_index(inplace=True)\n",
        "\n",
        "    # 13.\t最大資金回落：代表資金從最高點回落至最低點的幅度\n",
        "    trade1['acc_max_cap'] = trade1['acc_ret'].cummax()\n",
        "    trade1['dd'] = (trade1['acc_ret'] / trade1['acc_max_cap'])\n",
        "    trade1.loc[trade1['acc_ret'] == trade1['acc_max_cap'] , 'new_high'] = trade1['acc_ret']\n",
        "    print('最大資金回落',round(1-trade1['dd'].min(),4))\n",
        "\n",
        "    # 14.\t繪製資金曲線圖(用幾何報酬計算)\n",
        "    ax=plt.subplot(111)\n",
        "    ax.plot( trade1['acc_ret'] , 'b-' ,label='Profit')\n",
        "    ax.plot( trade1['dd'] , '-' ,color='#00A600',label='MDD')\n",
        "    ax.plot( trade1['new_high'] , 'o' ,color='#FF0000',label='Equity high')\n",
        "    ax.legend()\n",
        "    plt.show()\n",
        "\n",
        "    return trade1\n",
        "\n",
        "def getFMShareHolder(prod,st,en):\n",
        "  bakfile = '%s_%s_%s_stock_holding_shares_per.csv'%(prod,st,en)\n",
        "\n",
        "  if os.path.exists(bakfile):\n",
        "    tmpdata=pd.read_csv(bakfile)\n",
        "    tmpdata['date']=pd.to_datetime(tmpdata['date'])\n",
        "    tmpdata=tmpdata.set_index(tmpdata['date'])\n",
        "\n",
        "  else:\n",
        "    tmpdata=FM.taiwan_stock_holding_shares_per(stock_id=prod,start_date=st,end_date=en)\n",
        "    tmpdata['date']=pd.to_datetime(tmpdata['date'])\n",
        "    tmpdata=tmpdata.set_index(tmpdata['date'])\n",
        "    tmpdata.drop('date',axis=1,inplace=True)\n",
        "    tmpdata.to_csv(bakfile)\n",
        "\n",
        "  return tmpdata\n",
        "\n",
        "def ShareHolderWeekly(data):\n",
        "  rs_sh,rs_dt=[],[]\n",
        "\n",
        "  for dt in data.index.unique():\n",
        "    data1=data[data.index==dt]\n",
        "\n",
        "    tmprow = data1.loc[data1['HoldingSharesLevel']=='1-999','percent'].values # 1\n",
        "    tmprow = np.append(tmprow,data1.loc[data1['HoldingSharesLevel']=='1,000-5,000','percent'].values) # 2\n",
        "    tmprow = np.append(tmprow,data1.loc[data1['HoldingSharesLevel']=='5,001-10,000','percent'].values) # 3\n",
        "    tmprow = np.append(tmprow,data1.loc[data1['HoldingSharesLevel']=='10,001-15,000','percent'].values) # 4\n",
        "    tmprow = np.append(tmprow,data1.loc[data1['HoldingSharesLevel']=='15,001-20,000','percent'].values) # 5\n",
        "    tmprow = np.append(tmprow,data1.loc[data1['HoldingSharesLevel']=='20,001-30,000','percent'].values) # 6\n",
        "    tmprow = np.append(tmprow,data1.loc[data1['HoldingSharesLevel']=='30,001-40,000','percent'].values) # 7\n",
        "    tmprow = np.append(tmprow,data1.loc[data1['HoldingSharesLevel']=='40,001-50,000','percent'].values) # 8\n",
        "    tmprow = np.append(tmprow,data1.loc[data1['HoldingSharesLevel']=='50,001-100,000','percent'].values) # 9\n",
        "    tmprow = np.append(tmprow,data1.loc[data1['HoldingSharesLevel']=='100,001-200,000','percent'].values) # 10\n",
        "    tmprow = np.append(tmprow,data1.loc[data1['HoldingSharesLevel']=='200,001-400,000','percent'].values) # 11\n",
        "    tmprow = np.append(tmprow,data1.loc[data1['HoldingSharesLevel']=='400,001-600,000','percent'].values) # 12\n",
        "    tmprow = np.append(tmprow,data1.loc[data1['HoldingSharesLevel']=='600,001-800,000','percent'].values) # 13\n",
        "    tmprow = np.append(tmprow,data1.loc[data1['HoldingSharesLevel']=='800,001-1,000,000','percent'].values) # 14\n",
        "    tmprow = np.append(tmprow,data1.loc[data1['HoldingSharesLevel']=='more than 1,000,001','percent'].values) # 15\n",
        "    tmprow = np.append(tmprow,data1.loc[data1['HoldingSharesLevel']=='total','people'].values) # 16\n",
        "\n",
        "    rs_sh.append(tmprow)\n",
        "    rs_dt.append(dt)\n",
        "\n",
        "  rs=pd.DataFrame(rs_sh,index=rs_dt,columns=['1','2','3','4','5','6','7','8','9','10','11','12','13','14','15','total_people'])\n",
        "  return rs\n",
        "\n",
        "def getPriceAndShareHolder(prod,st,en):\n",
        "\n",
        "  data1=getDataFM(prod,st,en)\n",
        "  data2=getFMShareHolder(prod,st,en)\n",
        "  data2a=ShareHolderWeekly(data2)\n",
        "\n",
        "  for i in range(1,data2a.shape[0]):\n",
        "    tmpdata=data1.loc[(data1.index>data2a.index[i-1])&(data1.index<=data2a.index[i]),]\n",
        "    if tmpdata.shape[0] == 0:\n",
        "      continue\n",
        "    data2a.loc[data2a.index[i],'open']=tmpdata.loc[tmpdata.index[0],'Open']\n",
        "    data2a.loc[data2a.index[i],'high']=tmpdata.loc[:,'High'].max()\n",
        "    data2a.loc[data2a.index[i],'low']=tmpdata.loc[:,'Low'].min()\n",
        "    data2a.loc[data2a.index[i],'close']=tmpdata.loc[tmpdata.index[-1],'Close']\n",
        "    data2a.loc[data2a.index,'volume']=tmpdata.loc[:,'Volume'].sum()\n",
        "\n",
        "  data2a = data2a.dropna()\n",
        "  return data2a\n",
        "\n",
        "# 取得三大法人 FinMind資料來源\n",
        "def getFMInstitutionalInvestors(prod, st, en):\n",
        "    # 備份檔名\n",
        "    bakfile = (\n",
        "        f\"{datapath}\\\\{prod}_{st}_{en}_TaiwanStockInstitutionalInvestorsBuySell.csv\"\n",
        "    )\n",
        "    # 檢視是否有該檔案存在\n",
        "    if os.path.exists(bakfile):\n",
        "        # 取得檔案內容\n",
        "        tmpdata = pd.read_csv(bakfile)\n",
        "        tmpdata[\"date\"] = pd.to_datetime(tmpdata[\"date\"])\n",
        "        tmpdata = tmpdata.set_index(tmpdata[\"date\"])\n",
        "    # 沒有的話就取API內容\n",
        "    else:\n",
        "        tmpdata = FM.taiwan_stock_institutional_investors(\n",
        "            stock_id=prod, start_date=st, end_date=en\n",
        "        )\n",
        "        # 將日期設定為索引\n",
        "        tmpdata[\"date\"] = pd.to_datetime(tmpdata[\"date\"])\n",
        "        tmpdata = tmpdata.set_index(tmpdata[\"date\"])\n",
        "        tmpdata.drop(\"date\", axis=1, inplace=True)\n",
        "        # 將API內容寫入備份檔中\n",
        "        tmpdata.to_csv(bakfile)\n",
        "    # 回傳資料\n",
        "    return tmpdata\n",
        "\n",
        "# 將三大法人轉換為一日一筆\n",
        "def InstInvestorsDaily(data):\n",
        "    rs_sh, rs_dt = [], []\n",
        "    # 依照日期去將資料做整合\n",
        "    for dt in data.index.unique():\n",
        "        # 撈出當天的所有資料\n",
        "        data1 = data[data.index == dt]\n",
        "        # 依照不同交易人類別\n",
        "        tmprow = []\n",
        "        f_b = data1.loc[data1[\"name\"] == \"Foreign_Investor\", \"buy\"].values\n",
        "        f_s = data1.loc[data1[\"name\"] == \"Foreign_Investor\", \"sell\"].values\n",
        "        fd_b = data1.loc[data1[\"name\"] == \"Foreign_Dealer_Self\", \"buy\"].values\n",
        "        fd_s = data1.loc[data1[\"name\"] == \"Foreign_Dealer_Self\", \"sell\"].values\n",
        "        i_b = data1.loc[data1[\"name\"] == \"Investment_Trust\", \"buy\"].values\n",
        "        i_s = data1.loc[data1[\"name\"] == \"Investment_Trust\", \"sell\"].values\n",
        "        d_b = data1.loc[data1[\"name\"] == \"Dealer\", \"buy\"].values\n",
        "        d_s = data1.loc[data1[\"name\"] == \"Dealer\", \"sell\"].values\n",
        "        ds_b = data1.loc[data1[\"name\"] == \"Dealer_self\", \"buy\"].values\n",
        "        ds_s = data1.loc[data1[\"name\"] == \"Dealer_self\", \"sell\"].values\n",
        "        dh_b = data1.loc[data1[\"name\"] == \"Dealer_Hedging\", \"buy\"].values\n",
        "        dh_s = data1.loc[data1[\"name\"] == \"Dealer_Hedging\", \"sell\"].values\n",
        "        # 如果為空 則填入該欄位為0\n",
        "        if len(f_b) == 0:\n",
        "            tmprow.append(0)\n",
        "        else:\n",
        "            tmprow.append(f_b[0])\n",
        "        if len(f_s) == 0:\n",
        "            tmprow.append(0)\n",
        "        else:\n",
        "            tmprow.append(f_s[0])\n",
        "        if len(fd_b) == 0:\n",
        "            tmprow.append(0)\n",
        "        else:\n",
        "            tmprow.append(fd_b[0])\n",
        "        if len(fd_s) == 0:\n",
        "            tmprow.append(0)\n",
        "        else:\n",
        "            tmprow.append(fd_s[0])\n",
        "        if len(i_b) == 0:\n",
        "            tmprow.append(0)\n",
        "        else:\n",
        "            tmprow.append(i_b[0])\n",
        "        if len(i_s) == 0:\n",
        "            tmprow.append(0)\n",
        "        else:\n",
        "            tmprow.append(i_s[0])\n",
        "        if len(d_b) == 0:\n",
        "            tmprow.append(0)\n",
        "        else:\n",
        "            tmprow.append(d_b[0])\n",
        "        if len(d_s) == 0:\n",
        "            tmprow.append(0)\n",
        "        else:\n",
        "            tmprow.append(d_s[0])\n",
        "        if len(ds_b) == 0:\n",
        "            tmprow.append(0)\n",
        "        else:\n",
        "            tmprow.append(ds_b[0])\n",
        "        if len(ds_s) == 0:\n",
        "            tmprow.append(0)\n",
        "        else:\n",
        "            tmprow.append(ds_s[0])\n",
        "        if len(dh_b) == 0:\n",
        "            tmprow.append(0)\n",
        "        else:\n",
        "            tmprow.append(dh_b[0])\n",
        "        if len(dh_s) == 0:\n",
        "            tmprow.append(0)\n",
        "        else:\n",
        "            tmprow.append(dh_s[0])\n",
        "        # 將DF資料存放到容器\n",
        "        rs_sh.append(tmprow)\n",
        "        # 資料日期存成一個列表\n",
        "        rs_dt.append(dt)\n",
        "    # 將每日的資料整合\n",
        "    rs = pd.DataFrame(\n",
        "        rs_sh,\n",
        "        index=rs_dt,\n",
        "        columns=[\n",
        "            \"外陸資買進股數(不含外資自營商)\",\n",
        "            \"外陸資賣出股數(不含外資自營商)\",\n",
        "            \"外資自營商買進股數\",\n",
        "            \"外資自營商賣出股數\",\n",
        "            \"投信買進股數\",\n",
        "            \"投信賣出股數\",\n",
        "            \"自營商買進股數(自行買賣)_1\",\n",
        "            \"自營商賣出股數(自行買賣)_1\",\n",
        "            \"自營商買進股數(自行買賣)_2\",\n",
        "            \"自營商賣出股數(自行買賣)_2\",\n",
        "            \"自營商買進股數(避險)\",\n",
        "            \"自營商賣出股數(避險)\",\n",
        "        ],\n",
        "    )\n",
        "    # 由於FinMind的，自營商類別有兩個，所以必須將這個了欄位合併，\n",
        "    rs[\"自營商買進股數(自行買賣)\"] = rs[\"自營商買進股數(自行買賣)_1\"] + rs[\"自營商買進股數(自行買賣)_2\"]\n",
        "    rs[\"自營商賣出股數(自行買賣)\"] = rs[\"自營商賣出股數(自行買賣)_1\"] + rs[\"自營商賣出股數(自行買賣)_2\"]\n",
        "    rs.drop(\"自營商買進股數(自行買賣)_1\", axis=1, inplace=True)\n",
        "    rs.drop(\"自營商買進股數(自行買賣)_2\", axis=1, inplace=True)\n",
        "    rs.drop(\"自營商賣出股數(自行買賣)_1\", axis=1, inplace=True)\n",
        "    rs.drop(\"自營商賣出股數(自行買賣)_2\", axis=1, inplace=True)\n",
        "    return rs\n",
        "\n",
        "# 取得K線與三大法人的集合資料 透過 FinMind\n",
        "def getPriceAndInstInvest_FM(prod, st, en):\n",
        "    # 取得還原股價\n",
        "    data1 = getDataFM(prod, st, en)\n",
        "    # 取得三大法人\n",
        "    data2 = getFMInstitutionalInvestors(prod, st, en)\n",
        "    # 轉換資料格式\n",
        "    data2_1 = InstInvestorsDaily(data2)\n",
        "    data3 = pd.concat([data1, data2_1], axis=1, join=\"inner\")\n",
        "    return data3"
      ],
      "metadata": {
        "id": "GTU8NE6R9AYw"
      },
      "execution_count": 21,
      "outputs": []
    },
    {
      "cell_type": "markdown",
      "source": [
        "####TALIB"
      ],
      "metadata": {
        "id": "BCjAKZPeCsX6"
      }
    },
    {
      "cell_type": "code",
      "source": [
        "!pip install ta-lib-bin > log.txt"
      ],
      "metadata": {
        "id": "rlMAzgfOCu_7",
        "colab": {
          "base_uri": "https://localhost:8080/"
        },
        "outputId": "8db25e82-82bd-4464-98a6-034c4f85d406"
      },
      "execution_count": 4,
      "outputs": [
        {
          "output_type": "stream",
          "name": "stdout",
          "text": [
            "Collecting Ta-Lib\n",
            "  Downloading TA-Lib-0.4.28.tar.gz (357 kB)\n",
            "\u001b[2K     \u001b[90m━━━━━━━━━━━━━━━━━━━━━━━━━━━━━━━━━━━━━━━━\u001b[0m \u001b[32m357.1/357.1 kB\u001b[0m \u001b[31m4.1 MB/s\u001b[0m eta \u001b[36m0:00:00\u001b[0m\n",
            "\u001b[?25h  Installing build dependencies ... \u001b[?25l\u001b[?25hdone\n",
            "  Getting requirements to build wheel ... \u001b[?25l\u001b[?25hdone\n",
            "  Installing backend dependencies ... \u001b[?25l\u001b[?25hdone\n",
            "  Preparing metadata (pyproject.toml) ... \u001b[?25l\u001b[?25hdone\n",
            "Requirement already satisfied: numpy in /usr/local/lib/python3.10/dist-packages (from Ta-Lib) (1.23.5)\n",
            "Building wheels for collected packages: Ta-Lib\n",
            "  \u001b[1;31merror\u001b[0m: \u001b[1msubprocess-exited-with-error\u001b[0m\n",
            "  \n",
            "  \u001b[31m×\u001b[0m \u001b[32mBuilding wheel for Ta-Lib \u001b[0m\u001b[1;32m(\u001b[0m\u001b[32mpyproject.toml\u001b[0m\u001b[1;32m)\u001b[0m did not run successfully.\n",
            "  \u001b[31m│\u001b[0m exit code: \u001b[1;36m1\u001b[0m\n",
            "  \u001b[31m╰─>\u001b[0m See above for output.\n",
            "  \n",
            "  \u001b[1;35mnote\u001b[0m: This error originates from a subprocess, and is likely not a problem with pip.\n",
            "  Building wheel for Ta-Lib (pyproject.toml) ... \u001b[?25l\u001b[?25herror\n",
            "\u001b[31m  ERROR: Failed building wheel for Ta-Lib\u001b[0m\u001b[31m\n",
            "\u001b[0mFailed to build Ta-Lib\n",
            "\u001b[31mERROR: Could not build wheels for Ta-Lib, which is required to install pyproject.toml-based projects\u001b[0m\u001b[31m\n",
            "\u001b[0m"
          ]
        }
      ]
    },
    {
      "cell_type": "code",
      "source": [
        "import talib\n",
        "from talib import SMA as func_sma\n",
        "from talib.abstract import SMA as abs_sma\n",
        "from talib.abstract import EMA"
      ],
      "metadata": {
        "id": "yGFFAGiwC56-"
      },
      "execution_count": 5,
      "outputs": []
    },
    {
      "cell_type": "markdown",
      "source": [
        "###**LINE** **Notify**"
      ],
      "metadata": {
        "id": "kkT56BRKuLMK"
      }
    },
    {
      "cell_type": "code",
      "source": [
        "!pip install lineTool"
      ],
      "metadata": {
        "colab": {
          "base_uri": "https://localhost:8080/"
        },
        "id": "iR10FWQDuOvv",
        "outputId": "92839fe5-3fac-4fc6-ca96-ea446f531e56"
      },
      "execution_count": 6,
      "outputs": [
        {
          "output_type": "stream",
          "name": "stdout",
          "text": [
            "Collecting lineTool\n",
            "  Downloading lineTool-1.0.3.tar.gz (756 bytes)\n",
            "  Preparing metadata (setup.py) ... \u001b[?25l\u001b[?25hdone\n",
            "Building wheels for collected packages: lineTool\n",
            "  Building wheel for lineTool (setup.py) ... \u001b[?25l\u001b[?25hdone\n",
            "  Created wheel for lineTool: filename=lineTool-1.0.3-py3-none-any.whl size=1439 sha256=7b978a2aa0a304a643db8e1d223285e95f6efdc779f1a025906d6fa55ee07d50\n",
            "  Stored in directory: /root/.cache/pip/wheels/dd/ee/a8/c3dbde303ae7e30634142d641a482a7a683ba82554328e1941\n",
            "Successfully built lineTool\n",
            "Installing collected packages: lineTool\n",
            "Successfully installed lineTool-1.0.3\n"
          ]
        }
      ]
    },
    {
      "cell_type": "code",
      "source": [
        "import lineTool\n",
        "# Line 推播\n",
        "token=\"lppCbwUyaxN2tIBRz1R1gHd5vKpYCve4tyd5TTI501I\" #我\n",
        "# token=\"PsJ1IPfpwwAsZmQb0oi5U9Xgz3ZsLxIBtEqMyQ5dhS8\" #00919股友社\n",
        "# token =\"TcKCmadWHAS7bE9AXdiRPVmyWY7d1wO4lmfc5TRJ2EZ\" #梅家\n",
        "def line_print(msg):\n",
        "    print(msg)\n",
        "    try :\n",
        "        lineTool.lineNotify(token, msg)\n",
        "    except:\n",
        "        print('line notify 失效')\n",
        "        pass"
      ],
      "metadata": {
        "id": "DP_kDTlavQk8"
      },
      "execution_count": 7,
      "outputs": []
    },
    {
      "cell_type": "markdown",
      "source": [
        "###**跟著大戶策略**"
      ],
      "metadata": {
        "id": "vciHON9C7VEP"
      }
    },
    {
      "cell_type": "code",
      "source": [
        "import datetime\n",
        "# 取得回測資料\n",
        "prod=int(input(\"請輸入要查詢的股票代碼:\"))\n",
        "st='2010-01-01'\n",
        "en=datetime.datetime.now().strftime('%Y-%m-%d')\n",
        "data=getPriceAndShareHolder(prod,st,en)\n",
        "\n",
        "data['major'] = data['12'] + data['13'] + data['14'] + data['15'] #400張以上為大戶\n",
        "data['major_ma'] = data.rolling(8)['major'].mean()\n",
        "data['total_people_ma'] = data.rolling(8)['total_people'].mean()\n",
        "\n",
        "position=0\n",
        "# 當天訊號\n",
        "signal=0\n",
        "\n",
        "for i in range(data.shape[0]-1):\n",
        "    c_time = data.index[i]\n",
        "    c_high = data.loc[c_time,'high']\n",
        "    c_close = data.loc[c_time,'close']\n",
        "    c_major = data.loc[c_time,'major']\n",
        "    c_major_ma = data.loc[c_time,'major_ma']\n",
        "    c_total_people = data.loc[c_time,'total_people']\n",
        "    c_total_people_ma = data.loc[c_time,'total_people_ma']\n",
        "\n",
        "    n_time = data.index[i+1]\n",
        "    n_open = data.loc[n_time,'open']\n",
        "\n",
        "    # 進場程序\n",
        "    if position == 0 :\n",
        "      if c_major > c_major_ma and c_total_people > c_total_people_ma :\n",
        "          position = 1\n",
        "          signal = 3\n",
        "      else :\n",
        "          signal = 1\n",
        "    # 出場程序\n",
        "    elif position ==1 :\n",
        "        # 出場邏輯\n",
        "      if c_major < c_major_ma:\n",
        "            position = 0\n",
        "            signal = 4\n",
        "      else:\n",
        "            signal = 2\n",
        "\n",
        "strategy_name='跟著大戶策略'\n",
        "if signal==1:\n",
        "    line_print('%s \\n %s \\n %s \\n維持空手'%(strategy_name,prod,en))\n",
        "elif signal==2:\n",
        "    line_print('%s \\n %s \\n %s \\n維持進場'%(strategy_name,prod,en))\n",
        "elif signal==3:\n",
        "    line_print('%s \\n %s \\n %s \\n進場訊號'%(strategy_name,prod,en))\n",
        "elif signal==4:\n",
        "    line_print('%s \\n %s \\n %s \\n出場訊號'%(strategy_name,prod,en))"
      ],
      "metadata": {
        "colab": {
          "base_uri": "https://localhost:8080/"
        },
        "id": "I9O5h5Z05awO",
        "outputId": "a39c4e0f-c714-4bfd-ed42-33cb9895deb6"
      },
      "execution_count": 17,
      "outputs": [
        {
          "name": "stdout",
          "output_type": "stream",
          "text": [
            "請輸入要查詢的股票代碼:2401\n"
          ]
        },
        {
          "output_type": "stream",
          "name": "stderr",
          "text": [
            "\u001b[32m2024-01-24 08:02:58.737\u001b[0m | \u001b[1mINFO    \u001b[0m | \u001b[36mFinMind.data.finmind_api\u001b[0m:\u001b[36mget_data\u001b[0m:\u001b[36m125\u001b[0m - \u001b[1mdownload TaiwanStockPrice, data_id: 2401\u001b[0m\n",
            "\u001b[32m2024-01-24 08:03:08.515\u001b[0m | \u001b[1mINFO    \u001b[0m | \u001b[36mFinMind.data.finmind_api\u001b[0m:\u001b[36mget_data\u001b[0m:\u001b[36m125\u001b[0m - \u001b[1mdownload TaiwanStockHoldingSharesPer, data_id: 2401\u001b[0m\n"
          ]
        },
        {
          "output_type": "stream",
          "name": "stdout",
          "text": [
            "跟著大戶策略 \n",
            " 2401 \n",
            " 2024-01-24 \n",
            "維持空手\n"
          ]
        }
      ]
    },
    {
      "cell_type": "markdown",
      "source": [
        "###**均線突破策略**\n",
        "\n",
        "\n"
      ],
      "metadata": {
        "id": "eaRBmhdUVhY1"
      }
    },
    {
      "cell_type": "code",
      "source": [
        "import datetime\n",
        "# 取得回測資料\n",
        "prod=int(input(\"請輸入要查詢的股票代碼:\"))\n",
        "st='2010-01-01'\n",
        "en=datetime.datetime.now().strftime('%Y-%m-%d')\n",
        "data = getDataFM1(prod,st,en)\n",
        "# EMA(data,timeperiod=120)\n",
        "data['ema'] = EMA(data,timeperiod=120)\n",
        "\n",
        "movestoploss = 0.05\n",
        "\n",
        "position = 0\n",
        "trade = pd.DataFrame()\n",
        "\n",
        "for i in range(data.shape[0]-1):\n",
        "  c_time = data.index[i]\n",
        "  c_high = data.loc[c_time,'high']\n",
        "  c_close = data.loc[c_time,'close']\n",
        "  c_ema = data.loc[c_time,'ema']\n",
        "\n",
        "  n_time = data.index[i+1]\n",
        "  n_open = data.loc[n_time,'open']\n",
        "\n",
        "  if position == 0 :\n",
        "    if c_close > c_ema*1.01 :\n",
        "      position = 1\n",
        "      signal = 3\n",
        "    else:\n",
        "      signal = 1\n",
        "      # print(c_time,'觸發進場訊號 隔日進場', order_time,'進場價', order_price, '進場', order_unit,'單位')\n",
        "\n",
        "  elif position == 1 :\n",
        "    if c_close < c_ema * 0.995:\n",
        "      position = 0\n",
        "      signal = 4\n",
        "    else:\n",
        "      signal =2\n",
        "      # print(c_time,'觸發出場訊號 隔日出場', order_time, '出場價', order_price)\n",
        "\n",
        "strategy_name='突破均線策略'\n",
        "if signal==1:\n",
        "    line_print('%s \\n %s \\n %s \\n維持空手'%(strategy_name,prod,en))\n",
        "elif signal==2:\n",
        "    line_print('%s \\n %s \\n %s \\n維持進場'%(strategy_name,prod,en))\n",
        "elif signal==3:\n",
        "    line_print('%s \\n %s \\n %s \\n進場訊號'%(strategy_name,prod,en))\n",
        "elif signal==4:\n",
        "    line_print('%s \\n %s \\n %s \\n出場訊號'%(strategy_name,prod,en))"
      ],
      "metadata": {
        "id": "cWiq_kn4UuO4",
        "colab": {
          "base_uri": "https://localhost:8080/"
        },
        "outputId": "8b4eafc1-1321-418a-d166-4fc62d88ac35"
      },
      "execution_count": 18,
      "outputs": [
        {
          "name": "stdout",
          "output_type": "stream",
          "text": [
            "請輸入要查詢的股票代碼:2401\n"
          ]
        },
        {
          "output_type": "stream",
          "name": "stderr",
          "text": [
            "\u001b[32m2024-01-24 08:03:32.792\u001b[0m | \u001b[1mINFO    \u001b[0m | \u001b[36mFinMind.data.finmind_api\u001b[0m:\u001b[36mget_data\u001b[0m:\u001b[36m125\u001b[0m - \u001b[1mdownload TaiwanStockPrice, data_id: 2401\u001b[0m\n"
          ]
        },
        {
          "output_type": "stream",
          "name": "stdout",
          "text": [
            "突破均線策略 \n",
            " 2401 \n",
            " 2024-01-24 \n",
            "維持進場\n"
          ]
        }
      ]
    },
    {
      "cell_type": "markdown",
      "source": [
        "###**趨勢突破策略**"
      ],
      "metadata": {
        "id": "1r2AUmBiYqsL"
      }
    },
    {
      "cell_type": "code",
      "source": [
        "import datetime\n",
        "# 取得回測資料\n",
        "prod=int(input(\"請輸入要查詢的股票代碼:\"))\n",
        "st='2010-01-01'\n",
        "en=datetime.datetime.now().strftime('%Y-%m-%d')\n",
        "data = getDataFM(prod,st,en)\n",
        "data['Ceil'] = data.rolling(3)['High'].max().shift()\n",
        "\n",
        "movestoploss = 0.05\n",
        "\n",
        "position = 0\n",
        "sugnal= 0\n",
        "\n",
        "for i in range(data.shape[0]-1):\n",
        "  c_time = data.index[i]\n",
        "  c_high = data.loc[c_time,'High']\n",
        "  c_close = data.loc[c_time,'Close']\n",
        "  c_ceil = data.loc[c_time,'Ceil']\n",
        "\n",
        "  n_time = data.index[i+1]\n",
        "  n_open = data.loc[n_time,'Open']\n",
        "\n",
        "  if position == 0 :\n",
        "    if c_close > c_ceil :\n",
        "      position = 1\n",
        "      order_i = i\n",
        "      order_time = n_time\n",
        "      order_price = n_open\n",
        "      stoploss = order_price * (1 - movestoploss)\n",
        "      # print(c_time,'觸發進場訊號 隔日進場', order_time,'進場價', order_price, '進場', order_unit,'單位')\n",
        "      signal = 3\n",
        "    else:\n",
        "      signal = 1\n",
        "  elif position == 1 :\n",
        "    stoploss = max(stoploss,c_close * (1 - movestoploss))\n",
        "    if c_close < stoploss:\n",
        "      position = 0\n",
        "      cover_time = n_time\n",
        "      cover_price = n_open\n",
        "      signal = 4\n",
        "    else:\n",
        "      signal = 2\n",
        "      # print(c_time,'觸發出場訊號 隔日出場', order_time, '出場價', order_price)\n",
        "strategy_name='趨勢突破策略'\n",
        "if signal==1:\n",
        "    line_print('%s \\n %s \\n %s \\n維持空手'%(strategy_name,prod,en))\n",
        "elif signal==2:\n",
        "    line_print('%s \\n %s \\n %s \\n維持進場'%(strategy_name,prod,en))\n",
        "elif signal==3:\n",
        "    line_print('%s \\n %s \\n %s \\n進場訊號'%(strategy_name,prod,en))\n",
        "elif signal==4:\n",
        "    line_print('%s \\n %s \\n %s \\n出場訊號'%(strategy_name,prod,en))"
      ],
      "metadata": {
        "colab": {
          "base_uri": "https://localhost:8080/"
        },
        "id": "YnLCLuL3YveX",
        "outputId": "8f662afa-3224-4186-b617-820fddb1d6bb"
      },
      "execution_count": 19,
      "outputs": [
        {
          "name": "stdout",
          "output_type": "stream",
          "text": [
            "請輸入要查詢的股票代碼:2401\n"
          ]
        },
        {
          "output_type": "stream",
          "name": "stderr",
          "text": [
            "\u001b[32m2024-01-24 08:03:42.266\u001b[0m | \u001b[1mINFO    \u001b[0m | \u001b[36mFinMind.data.finmind_api\u001b[0m:\u001b[36mget_data\u001b[0m:\u001b[36m125\u001b[0m - \u001b[1mdownload TaiwanStockPrice, data_id: 2401\u001b[0m\n"
          ]
        },
        {
          "output_type": "stream",
          "name": "stdout",
          "text": [
            "趨勢突破策略 \n",
            " 2401 \n",
            " 2024-01-24 \n",
            "維持進場\n"
          ]
        }
      ]
    },
    {
      "cell_type": "markdown",
      "source": [
        "###**跟著外資策略**"
      ],
      "metadata": {
        "id": "hn-w5OuM45CH"
      }
    },
    {
      "cell_type": "code",
      "source": [
        "import datetime\n",
        "# 取得回測資料\n",
        "prod=int(input(\"請輸入要查詢的股票代碼:\"))\n",
        "st='2010-01-01'\n",
        "en=datetime.datetime.now().strftime('%Y-%m-%d')\n",
        "data=getPriceAndInstInvest_FM(prod,st,en)\n",
        "\n",
        "# 計算 外資平均買賣\n",
        "data['F_day']=data['外陸資買進股數(不含外資自營商)']-data['外陸資賣出股數(不含外資自營商)']\n",
        "data['F_month']=(data['F_day']).rolling(40).sum()\n",
        "data['F_mean']=(data['F_month']).rolling(20).mean()\n",
        "# 初始部位\n",
        "position=0\n",
        "# 當天訊號\n",
        "signal=0\n",
        "\n",
        "for i in range(data.shape[0]-1):\n",
        "    # 取得策略會應用到的變數\n",
        "    c_time=data.index[i]\n",
        "    c_high=data.loc[c_time,'High']\n",
        "    c_close=data.loc[c_time,'Close']\n",
        "    c_F_month=data.loc[c_time,'F_month']\n",
        "    c_F_mean=data.loc[c_time,'F_mean']\n",
        "    # 取下一期資料做為進場資料\n",
        "    n_time=data.index[i+1]\n",
        "    n_open=data.loc[n_time,'Open']\n",
        "\n",
        "    # 進場程序\n",
        "    if position == 0 :\n",
        "        if c_F_month > c_F_mean :\n",
        "            position = 1\n",
        "            signal = 3\n",
        "        else :\n",
        "            signal = 1\n",
        "    # 出場程序\n",
        "    elif position ==1 :\n",
        "        # 出場邏輯\n",
        "        if c_F_month < c_F_mean :\n",
        "            position = 0\n",
        "            signal = 4\n",
        "        else:\n",
        "            signal = 2\n",
        "\n",
        "strategy_name='跟著外資策略'\n",
        "if signal==1:\n",
        "    line_print('%s \\n %s \\n %s \\n維持空手'%(strategy_name,prod,en))\n",
        "elif signal==2:\n",
        "    line_print('%s \\n %s \\n %s \\n維持進場'%(strategy_name,prod,en))\n",
        "elif signal==3:\n",
        "    line_print('%s \\n %s \\n %s \\n進場訊號'%(strategy_name,prod,en))\n",
        "elif signal==4:\n",
        "    line_print('%s \\n %s \\n %s \\n出場訊號'%(strategy_name,prod,en))"
      ],
      "metadata": {
        "colab": {
          "base_uri": "https://localhost:8080/"
        },
        "id": "BI-hW7sg0h2s",
        "outputId": "b8fd59aa-af42-4bd7-80ee-208c346a4671"
      },
      "execution_count": 25,
      "outputs": [
        {
          "name": "stdout",
          "output_type": "stream",
          "text": [
            "請輸入要查詢的股票代碼:2401\n"
          ]
        },
        {
          "output_type": "stream",
          "name": "stderr",
          "text": [
            "\u001b[32m2024-01-24 08:06:10.601\u001b[0m | \u001b[1mINFO    \u001b[0m | \u001b[36mFinMind.data.finmind_api\u001b[0m:\u001b[36mget_data\u001b[0m:\u001b[36m125\u001b[0m - \u001b[1mdownload TaiwanStockPrice, data_id: 2401\u001b[0m\n"
          ]
        },
        {
          "output_type": "stream",
          "name": "stdout",
          "text": [
            "跟著外資策略 \n",
            " 2401 \n",
            " 2024-01-24 \n",
            "維持空手\n"
          ]
        }
      ]
    },
    {
      "cell_type": "markdown",
      "source": [
        "###**反著散戶策略**"
      ],
      "metadata": {
        "id": "Goeg1FZE9hIi"
      }
    },
    {
      "cell_type": "code",
      "source": [
        "import datetime\n",
        "# 取得回測資料\n",
        "prod=int(input(\"請輸入要查詢的股票代碼:\"))\n",
        "st='2010-01-01'\n",
        "en=datetime.datetime.now().strftime('%Y-%m-%d')\n",
        "data=getPriceAndShareHolder(prod,st,en)\n",
        "\n",
        "# 30張持有以下稱為散戶\n",
        "data['minority']=data['1']+data['2']+data['3']+data['4']\n",
        "# 算出過去的平均\n",
        "data['minority_ma']=data.rolling(8)['minority'].mean()\n",
        "data['ma']=data.rolling(4)['close'].mean()\n",
        "data['total_people_ma']=data.rolling(8)['total_people'].mean()\n",
        "\n",
        "position=0\n",
        "# 當天訊號\n",
        "signal=0\n",
        "\n",
        "for i in range(data.shape[0]-1):\n",
        "    # 取得策略會應用到的變數\n",
        "    c_time=data.index[i]\n",
        "    c_high=data.loc[c_time,'high']\n",
        "    c_close=data.loc[c_time,'close']\n",
        "    c_ma=data.loc[c_time,'ma']\n",
        "    c_minority=data.loc[c_time,'minority']\n",
        "    c_minority_ma=data.loc[c_time,'minority_ma']\n",
        "    c_total_people=data.loc[c_time,'total_people']\n",
        "    c_total_people_ma=data.loc[c_time,'total_people_ma']\n",
        "    # 取下一期資料做為進場資料\n",
        "    n_time=data.index[i+1]\n",
        "    n_open=data.loc[n_time,'open']\n",
        "\n",
        "    # 進場程序\n",
        "    if position == 0 :\n",
        "        if c_close > c_ma and c_minority < c_minority_ma :\n",
        "          position = 1\n",
        "          signal = 3\n",
        "        else :\n",
        "          signal = 1\n",
        "    # 出場程序\n",
        "    elif position ==1 :\n",
        "        # 出場邏輯\n",
        "        if c_minority > c_minority_ma:\n",
        "            position = 0\n",
        "            signal = 4\n",
        "        else:\n",
        "            signal = 2\n",
        "\n",
        "strategy_name='反著散戶策略'\n",
        "if signal==1:\n",
        "    line_print('%s \\n %s \\n %s \\n維持空手'%(strategy_name,prod,en))\n",
        "elif signal==2:\n",
        "    line_print('%s \\n %s \\n %s \\n維持進場'%(strategy_name,prod,en))\n",
        "elif signal==3:\n",
        "    line_print('%s \\n %s \\n %s \\n進場訊號'%(strategy_name,prod,en))\n",
        "elif signal==4:\n",
        "    line_print('%s \\n %s \\n %s \\n出場訊號'%(strategy_name,prod,en))"
      ],
      "metadata": {
        "colab": {
          "base_uri": "https://localhost:8080/"
        },
        "id": "TJ1Ugzxm85Kh",
        "outputId": "0565392b-4ff2-4ba4-da67-7c6ce4291f86"
      },
      "execution_count": 26,
      "outputs": [
        {
          "name": "stdout",
          "output_type": "stream",
          "text": [
            "請輸入要查詢的股票代碼:2401\n"
          ]
        },
        {
          "output_type": "stream",
          "name": "stderr",
          "text": [
            "\u001b[32m2024-01-24 08:06:59.528\u001b[0m | \u001b[1mINFO    \u001b[0m | \u001b[36mFinMind.data.finmind_api\u001b[0m:\u001b[36mget_data\u001b[0m:\u001b[36m125\u001b[0m - \u001b[1mdownload TaiwanStockPrice, data_id: 2401\u001b[0m\n"
          ]
        },
        {
          "output_type": "stream",
          "name": "stdout",
          "text": [
            "反著散戶策略 \n",
            " 2401 \n",
            " 2024-01-24 \n",
            "出場訊號\n"
          ]
        }
      ]
    }
  ]
}